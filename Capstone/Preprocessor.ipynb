{
 "cells": [
  {
   "cell_type": "code",
   "execution_count": 1,
   "metadata": {},
   "outputs": [],
   "source": [
    "from PIL import Image\n",
    "import numpy as np\n",
    "import os\n",
    "import re\n",
    "import shutil"
   ]
  },
  {
   "cell_type": "markdown",
   "metadata": {},
   "source": [
    "### Image Cropper"
   ]
  },
  {
   "cell_type": "code",
   "execution_count": null,
   "metadata": {},
   "outputs": [],
   "source": [
    "Image.open('./misc/strawberry isolated_892.jpg')"
   ]
  },
  {
   "cell_type": "code",
   "execution_count": null,
   "metadata": {},
   "outputs": [],
   "source": [
    "directory = './For cropping/'\n",
    "folders = []\n",
    "\n",
    "for folder in os.listdir(directory):\n",
    "    folders.append(directory + folder + '/')"
   ]
  },
  {
   "cell_type": "code",
   "execution_count": null,
   "metadata": {},
   "outputs": [],
   "source": [
    "for folder in folders:\n",
    "    for image in os.listdir(folder):\n",
    "        try:\n",
    "            file, ext = os.path.splitext(image)\n",
    "            img = Image.open(folder + image)\n",
    "            img = img.convert('RGB')\n",
    "            img = img.crop((0, 0, img.width, img.height*0.93))\n",
    "            img.save(folder + file + '.jpg', \"JPEG\")\n",
    "            img.close()\n",
    "        except Exception:\n",
    "            print(image)\n",
    "    \n",
    "    print('Path:', folder, 'completed.')"
   ]
  },
  {
   "cell_type": "code",
   "execution_count": null,
   "metadata": {},
   "outputs": [],
   "source": [
    "# import glob, os\n",
    "# def jpg_converter(directory):\n",
    "#     for infile in glob.glob(directory + \"*.PNG\"):\n",
    "#         file, ext = os.path.splitext(infile)\n",
    "#         im = Image.open(infile)\n",
    "#         rgb_im = im.convert('RGB')\n",
    "#         rgb_im.save(directory + file + \".png\", \"PNG\")\n",
    "        \n",
    "#     for infile in glob.glob(directory + \"*.png\"):\n",
    "#         file, ext = os.path.splitext(infile)\n",
    "#         im = Image.open(infile)\n",
    "#         rgb_im = im.convert('RGB')\n",
    "#         rgb_im.save(directory + file + \".png\", \"PNG\") \n",
    "        \n",
    "#     for infile in glob.glob(directory + \"*.JPEG\"):\n",
    "#         file, ext = os.path.splitext(infile)\n",
    "#         im = Image.open(infile)\n",
    "#         rgb_im = im.convert('RGB')\n",
    "#         rgb_im.save(directory + file + \".png\", \"PNG\")\n",
    "        \n",
    "#     for infile in glob.glob(directory + \"*.jpeg\"):\n",
    "#         file, ext = os.path.splitext(infile)\n",
    "#         im = Image.open(infile)\n",
    "#         rgb_im = im.convert('RGB')\n",
    "#         rgb_im.save(directory + file + \".png\", \"PNG\")"
   ]
  },
  {
   "cell_type": "markdown",
   "metadata": {},
   "source": [
    "### Image Renamer"
   ]
  },
  {
   "cell_type": "code",
   "execution_count": 2,
   "metadata": {},
   "outputs": [],
   "source": [
    "directory = './Dataset/'\n",
    "folders = []\n",
    "\n",
    "for folder in os.listdir(directory):\n",
    "    folders.append(directory + folder + '/')"
   ]
  },
  {
   "cell_type": "code",
   "execution_count": 3,
   "metadata": {},
   "outputs": [
    {
     "data": {
      "text/plain": [
       "['./Dataset/apple/',\n",
       " './Dataset/asparagus/',\n",
       " './Dataset/banana/',\n",
       " './Dataset/broccoli/',\n",
       " './Dataset/cabbage/',\n",
       " './Dataset/capsicums/',\n",
       " './Dataset/cherry/',\n",
       " './Dataset/cherry_tomato/',\n",
       " './Dataset/chilli/',\n",
       " './Dataset/grapes/',\n",
       " './Dataset/mango/',\n",
       " './Dataset/pakchoi/',\n",
       " './Dataset/soursop/',\n",
       " './Dataset/spinach/',\n",
       " './Dataset/strawberry/']"
      ]
     },
     "execution_count": 3,
     "metadata": {},
     "output_type": "execute_result"
    }
   ],
   "source": [
    "folders"
   ]
  },
  {
   "cell_type": "code",
   "execution_count": 5,
   "metadata": {},
   "outputs": [
    {
     "name": "stdout",
     "output_type": "stream",
     "text": [
      "Directory: ./Dataset/apple/ completed\n",
      "Directory: ./Dataset/asparagus/ completed\n",
      "Directory: ./Dataset/banana/ completed\n",
      "Directory: ./Dataset/broccoli/ completed\n",
      "Directory: ./Dataset/cabbage/ completed\n",
      "Directory: ./Dataset/capsicums/ completed\n",
      "Directory: ./Dataset/cherry/ completed\n",
      "Directory: ./Dataset/cherry_tomato/ completed\n",
      "Directory: ./Dataset/chilli/ completed\n",
      "Directory: ./Dataset/grapes/ completed\n",
      "Directory: ./Dataset/mango/ completed\n",
      "Directory: ./Dataset/pakchoi/ completed\n",
      "Directory: ./Dataset/soursop/ completed\n",
      "Directory: ./Dataset/spinach/ completed\n",
      "Directory: ./Dataset/strawberry/ completed\n"
     ]
    }
   ],
   "source": [
    "\"\"\"\n",
    "Renames the multiple file within the same directory with appending number\n",
    "\"\"\"\n",
    "\n",
    "for folder in folders:\n",
    "    i = 0\n",
    "    for image in os.listdir(folder):\n",
    "        i += 1\n",
    "        image_name, image_extension = os.path.splitext(image)\n",
    "        os.rename(os.path.join(folder, image), \n",
    "                  os.path.join(folder, re.search(r'set/(.*)/', folder).group(1) + '_' + str(i) + image_extension))\n",
    "    print('Directory:', folder, 'completed')"
   ]
  },
  {
   "cell_type": "markdown",
   "metadata": {},
   "source": [
    "### Train-Validate-Test splitter"
   ]
  },
  {
   "cell_type": "code",
   "execution_count": 2,
   "metadata": {},
   "outputs": [],
   "source": [
    "# function to randomly split dataset into train, validate and test sets\n",
    "\n",
    "def split_dataset_into_test_and_train_sets(all_data_dir, training_data_dir, testing_data_dir, testing_data_pct, test_count):\n",
    "    # Recreate testing and training directories and cleaning existing data\n",
    "    if testing_data_dir.count('/') > 1:\n",
    "        shutil.rmtree(testing_data_dir, ignore_errors=False)\n",
    "        os.makedirs(testing_data_dir)\n",
    "        print(\"Successfully cleaned directory \" + testing_data_dir)\n",
    "    else:\n",
    "        print(\"Refusing to delete testing data directory \" + testing_data_dir + \" as we prevent you from doing stupid things!\")\n",
    "\n",
    "    if training_data_dir.count('/') > 1:\n",
    "        shutil.rmtree(training_data_dir, ignore_errors=False)\n",
    "        os.makedirs(training_data_dir)\n",
    "        print(\"Successfully cleaned directory \" + training_data_dir)\n",
    "    else:\n",
    "        print(\"Refusing to delete testing data directory \" + training_data_dir + \" as we prevent you from doing stupid things!\")\n",
    "\n",
    "    num_training_files = 0\n",
    "    num_testing_files = 0\n",
    "    \n",
    "    # Creating sub-folders for individual categories\n",
    "    for subdir, dirs, files in os.walk(all_data_dir):\n",
    "        category_name = os.path.basename(subdir)\n",
    "\n",
    "        # Don't create a subdirectory for the root directory\n",
    "        if category_name == os.path.basename(all_data_dir):\n",
    "            continue\n",
    "\n",
    "        # print(category_name + \" vs \" + os.path.basename(all_data_dir))\n",
    "        print('Splitting data for:', category_name)\n",
    "        training_data_category_dir = training_data_dir + '/' + category_name\n",
    "        testing_data_category_dir = testing_data_dir + '/' + category_name\n",
    "\n",
    "        if not os.path.exists(training_data_category_dir):\n",
    "            os.mkdir(training_data_category_dir)\n",
    "\n",
    "        if not os.path.exists(testing_data_category_dir):\n",
    "            os.mkdir(testing_data_category_dir)\n",
    "        \n",
    "        num_test = 0\n",
    "\n",
    "        for file in files:\n",
    "            input_file = os.path.join(subdir, file)\n",
    "            if num_test<test_count:\n",
    "                if np.random.rand(1) < testing_data_pct:\n",
    "                    shutil.copy(input_file, testing_data_dir + '/' + category_name + '/' + file)\n",
    "                    num_testing_files += 1\n",
    "                    num_test += 1\n",
    "                else:\n",
    "                    shutil.copy(input_file, training_data_dir + '/' + category_name + '/' + file)\n",
    "                    num_training_files += 1\n",
    "            else:\n",
    "                shutil.copy(input_file, training_data_dir + '/' + category_name + '/' + file)\n",
    "                num_training_files += 1\n",
    "\n",
    "    print(\"Processed \" + str(num_training_files) + \" training files.\")\n",
    "    print(\"Processed \" + str(num_testing_files) + \" testing files.\")\n"
   ]
  },
  {
   "cell_type": "code",
   "execution_count": 3,
   "metadata": {},
   "outputs": [
    {
     "name": "stdout",
     "output_type": "stream",
     "text": [
      "Successfully cleaned directory ./Model/Test\n",
      "Successfully cleaned directory ./Model/Remaining\n",
      "Splitting data for: apple\n",
      "Splitting data for: asparagus\n",
      "Splitting data for: banana\n",
      "Splitting data for: broccoli\n",
      "Splitting data for: cabbage\n",
      "Splitting data for: capsicums\n",
      "Splitting data for: cherry\n",
      "Splitting data for: cherry_tomato\n",
      "Splitting data for: chilli\n",
      "Splitting data for: grapes\n",
      "Splitting data for: mango\n",
      "Splitting data for: pakchoi\n",
      "Splitting data for: soursop\n",
      "Splitting data for: spinach\n",
      "Splitting data for: strawberry\n",
      "Processed 35533 training files.\n",
      "Processed 1500 testing files.\n"
     ]
    }
   ],
   "source": [
    "# Randomly extract approximately 5% of each category as test data\n",
    "all_data_dir = './Dataset'\n",
    "remaining_data_dir = './Model/Remaining'\n",
    "test_data_dir = './Model/Test'\n",
    "test_data_pct = 0.06\n",
    "test_cap = 100\n",
    "\n",
    "split_dataset_into_test_and_train_sets(all_data_dir, remaining_data_dir, test_data_dir, test_data_pct, test_cap)"
   ]
  },
  {
   "cell_type": "code",
   "execution_count": 4,
   "metadata": {},
   "outputs": [
    {
     "name": "stdout",
     "output_type": "stream",
     "text": [
      "Successfully cleaned directory ./Model/Validate\n",
      "Successfully cleaned directory ./Model/Train\n",
      "Splitting data for: apple\n",
      "Splitting data for: asparagus\n",
      "Splitting data for: banana\n",
      "Splitting data for: broccoli\n",
      "Splitting data for: cabbage\n",
      "Splitting data for: capsicums\n",
      "Splitting data for: cherry\n",
      "Splitting data for: cherry_tomato\n",
      "Splitting data for: chilli\n",
      "Splitting data for: grapes\n",
      "Splitting data for: mango\n",
      "Splitting data for: pakchoi\n",
      "Splitting data for: soursop\n",
      "Splitting data for: spinach\n",
      "Splitting data for: strawberry\n",
      "Processed 28430 training files.\n",
      "Processed 7103 testing files.\n"
     ]
    }
   ],
   "source": [
    "# Randomly splitting approximately 20% of each category as validation data\n",
    "all_data_dir = './Model/Remaining'\n",
    "train_data_dir = './Model/Train'\n",
    "validate_data_dir = './Model/Validate'\n",
    "validate_data_pct = 0.20\n",
    "validate_cap = 5000 #arbitrarily set big number so to not hit fixed cap\n",
    "\n",
    "split_dataset_into_test_and_train_sets(all_data_dir, train_data_dir, validate_data_dir, validate_data_pct, validate_cap)"
   ]
  },
  {
   "cell_type": "code",
   "execution_count": null,
   "metadata": {},
   "outputs": [],
   "source": []
  }
 ],
 "metadata": {
  "kernelspec": {
   "display_name": "Python 3",
   "language": "python",
   "name": "python3"
  },
  "language_info": {
   "codemirror_mode": {
    "name": "ipython",
    "version": 3
   },
   "file_extension": ".py",
   "mimetype": "text/x-python",
   "name": "python",
   "nbconvert_exporter": "python",
   "pygments_lexer": "ipython3",
   "version": "3.5.5"
  }
 },
 "nbformat": 4,
 "nbformat_minor": 2
}
