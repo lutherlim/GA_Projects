{
 "cells": [
  {
   "cell_type": "code",
   "execution_count": 1,
   "metadata": {},
   "outputs": [],
   "source": [
    "import pandas as pd\n",
    "import numpy as np\n",
    "import re\n",
    "import seaborn as sns\n",
    "import matplotlib.pyplot as plt\n",
    "\n",
    "sns.set_style('whitegrid')\n",
    "%matplotlib inline"
   ]
  },
  {
   "cell_type": "code",
   "execution_count": 2,
   "metadata": {},
   "outputs": [],
   "source": [
    "# importing all the scraped datasets\n",
    "data_scientist = pd.read_csv('./datasets/data_scientist.csv', index_col=0)\n",
    "data_analyst = pd.read_csv('./datasets/data_analyst.csv', index_col=0)\n",
    "business_analyst = pd.read_csv('./datasets/business_analyst.csv', index_col=0)\n",
    "business_intelligence = pd.read_csv('./datasets/business_intelligence.csv', index_col=0)\n",
    "ML_engineer = pd.read_csv('./datasets/machine_learning_engineer.csv', index_col=0)\n",
    "ML_scientist = pd.read_csv('./datasets/ml_scientist.csv', index_col=0)\n",
    "AI_scientist = pd.read_csv('./datasets/AI_scientist.csv', index_col=0)\n",
    "AI_engineer = pd.read_csv('./datasets/AI_engineer.csv', index_col=0)\n",
    "database_dev = pd.read_csv('./datasets/database_developer.csv', index_col=0)\n",
    "database_admin = pd.read_csv('./datasets/database_administrator.csv', index_col=0)\n",
    "data_architect = pd.read_csv('./datasets/data_architect.csv', index_col=0)\n",
    "statistician = pd.read_csv('./datasets/statistician.csv', index_col=0)\n",
    "statistical_programmer = pd.read_csv('./datasets/statistical_programmer.csv', index_col=0)\n"
   ]
  },
  {
   "cell_type": "code",
   "execution_count": 3,
   "metadata": {},
   "outputs": [],
   "source": [
    "data = [data_scientist, data_analyst, business_analyst, business_intelligence, ML_engineer, ML_scientist, AI_engineer, \n",
    "        AI_scientist, database_dev, database_admin, data_architect, statistician, statistical_programmer]"
   ]
  },
  {
   "cell_type": "code",
   "execution_count": 4,
   "metadata": {},
   "outputs": [],
   "source": [
    "# creating dataframe\n",
    "jobs = pd.concat(data)"
   ]
  },
  {
   "cell_type": "code",
   "execution_count": 5,
   "metadata": {},
   "outputs": [
    {
     "data": {
      "text/plain": [
       "(3604, 8)"
      ]
     },
     "execution_count": 5,
     "metadata": {},
     "output_type": "execute_result"
    }
   ],
   "source": [
    "jobs.shape"
   ]
  },
  {
   "cell_type": "code",
   "execution_count": 6,
   "metadata": {},
   "outputs": [],
   "source": [
    "jobs.reset_index(drop=True, inplace=True)"
   ]
  },
  {
   "cell_type": "code",
   "execution_count": 7,
   "metadata": {},
   "outputs": [],
   "source": [
    "# dropping duplicates based on details column. \n",
    "jobs.drop_duplicates(subset='details', inplace=True)"
   ]
  },
  {
   "cell_type": "code",
   "execution_count": 8,
   "metadata": {},
   "outputs": [
    {
     "data": {
      "text/plain": [
       "(2551, 8)"
      ]
     },
     "execution_count": 8,
     "metadata": {},
     "output_type": "execute_result"
    }
   ],
   "source": [
    "jobs.shape"
   ]
  },
  {
   "cell_type": "code",
   "execution_count": 9,
   "metadata": {},
   "outputs": [],
   "source": [
    "jobs.reset_index(drop=True, inplace=True)"
   ]
  },
  {
   "cell_type": "code",
   "execution_count": 10,
   "metadata": {},
   "outputs": [
    {
     "data": {
      "text/html": [
       "<div>\n",
       "<style scoped>\n",
       "    .dataframe tbody tr th:only-of-type {\n",
       "        vertical-align: middle;\n",
       "    }\n",
       "\n",
       "    .dataframe tbody tr th {\n",
       "        vertical-align: top;\n",
       "    }\n",
       "\n",
       "    .dataframe thead th {\n",
       "        text-align: right;\n",
       "    }\n",
       "</style>\n",
       "<table border=\"1\" class=\"dataframe\">\n",
       "  <thead>\n",
       "    <tr style=\"text-align: right;\">\n",
       "      <th></th>\n",
       "      <th>category</th>\n",
       "      <th>company</th>\n",
       "      <th>details</th>\n",
       "      <th>experience</th>\n",
       "      <th>industry</th>\n",
       "      <th>location</th>\n",
       "      <th>salary</th>\n",
       "      <th>title</th>\n",
       "    </tr>\n",
       "  </thead>\n",
       "  <tbody>\n",
       "    <tr>\n",
       "      <th>0</th>\n",
       "      <td>Information Technology</td>\n",
       "      <td>Eliassen Group</td>\n",
       "      <td>\\nOur client is dedicated to delivering best-i...</td>\n",
       "      <td>NaN</td>\n",
       "      <td>Other Great Industries</td>\n",
       "      <td>201 South Tryon StreetCharlotte, NC 28202</td>\n",
       "      <td>NaN</td>\n",
       "      <td>Data Scientist</td>\n",
       "    </tr>\n",
       "    <tr>\n",
       "      <th>1</th>\n",
       "      <td>Information Technology</td>\n",
       "      <td>Rang Technologies</td>\n",
       "      <td>\\nRoles and Responsibilities:\\nThe client is i...</td>\n",
       "      <td>NaN</td>\n",
       "      <td>Computer Software</td>\n",
       "      <td>Moline, IL</td>\n",
       "      <td>NaN</td>\n",
       "      <td>Data Scientist</td>\n",
       "    </tr>\n",
       "    <tr>\n",
       "      <th>2</th>\n",
       "      <td>Information Technology</td>\n",
       "      <td>Austin Fraser</td>\n",
       "      <td>\\nAustin Fraser is working alongside a fantast...</td>\n",
       "      <td>NaN</td>\n",
       "      <td>Computer Software</td>\n",
       "      <td>Austin, TX</td>\n",
       "      <td>$90,000.00 - $175,000.00 /Year</td>\n",
       "      <td>Data Scientist</td>\n",
       "    </tr>\n",
       "    <tr>\n",
       "      <th>3</th>\n",
       "      <td>Information Technology</td>\n",
       "      <td>FRG Technology Consulting</td>\n",
       "      <td>\\nData Scientist - Waltham, MA - $190K My clie...</td>\n",
       "      <td>NaN</td>\n",
       "      <td>Computer Software</td>\n",
       "      <td>Waltham, MA</td>\n",
       "      <td>$190,000.00 - $200,000.00 /Year</td>\n",
       "      <td>Data Scientist</td>\n",
       "    </tr>\n",
       "    <tr>\n",
       "      <th>4</th>\n",
       "      <td>Information Technology</td>\n",
       "      <td>Roc Search Inc</td>\n",
       "      <td>\\nData Scientist - Education - $130,000With mi...</td>\n",
       "      <td>5+ years</td>\n",
       "      <td>Computer Software</td>\n",
       "      <td>Austin, TX</td>\n",
       "      <td>$100,000.00 - $130,000.00 /Year</td>\n",
       "      <td>Data Scientist</td>\n",
       "    </tr>\n",
       "  </tbody>\n",
       "</table>\n",
       "</div>"
      ],
      "text/plain": [
       "                 category                    company  \\\n",
       "0  Information Technology             Eliassen Group   \n",
       "1  Information Technology          Rang Technologies   \n",
       "2  Information Technology              Austin Fraser   \n",
       "3  Information Technology  FRG Technology Consulting   \n",
       "4  Information Technology             Roc Search Inc   \n",
       "\n",
       "                                             details experience  \\\n",
       "0  \\nOur client is dedicated to delivering best-i...        NaN   \n",
       "1  \\nRoles and Responsibilities:\\nThe client is i...        NaN   \n",
       "2  \\nAustin Fraser is working alongside a fantast...        NaN   \n",
       "3  \\nData Scientist - Waltham, MA - $190K My clie...        NaN   \n",
       "4  \\nData Scientist - Education - $130,000With mi...   5+ years   \n",
       "\n",
       "                 industry                                   location  \\\n",
       "0  Other Great Industries  201 South Tryon StreetCharlotte, NC 28202   \n",
       "1       Computer Software                                 Moline, IL   \n",
       "2       Computer Software                                 Austin, TX   \n",
       "3       Computer Software                                Waltham, MA   \n",
       "4       Computer Software                                 Austin, TX   \n",
       "\n",
       "                            salary           title  \n",
       "0                              NaN  Data Scientist  \n",
       "1                              NaN  Data Scientist  \n",
       "2   $90,000.00 - $175,000.00 /Year  Data Scientist  \n",
       "3  $190,000.00 - $200,000.00 /Year  Data Scientist  \n",
       "4  $100,000.00 - $130,000.00 /Year  Data Scientist  "
      ]
     },
     "execution_count": 10,
     "metadata": {},
     "output_type": "execute_result"
    }
   ],
   "source": [
    "jobs.head()"
   ]
  },
  {
   "cell_type": "markdown",
   "metadata": {},
   "source": [
    "### Cleaning salary column"
   ]
  },
  {
   "cell_type": "code",
   "execution_count": 11,
   "metadata": {},
   "outputs": [],
   "source": [
    "work_days = 251\n",
    "work_hours = 9\n",
    "\n",
    "# function returns mid point of a given salary range, else pass if no salary data available\n",
    "# if salary quoted per year, return mid point of range\n",
    "# if salary quoted per hour, return mid point of range * no. of work days in year * no. of work hours/day (annualising)\n",
    "def salary_cleaner(salary_range):\n",
    "    \n",
    "    try:\n",
    "        if 'Year' in salary_range:\n",
    "            sal = re.findall(r'[0-9.]+',salary_range.replace('$','').replace(',',''))\n",
    "            return np.mean([float(i) for i in sal])\n",
    "        \n",
    "        elif 'Hour' in salary_range:\n",
    "            sal = re.findall(r'[0-9.]+',salary_range.replace('$','').replace(',',''))\n",
    "            return np.mean([float(i) for i in sal]) * work_days * work_hours\n",
    "        \n",
    "    except TypeError:\n",
    "        pass\n",
    "    \n",
    "    return"
   ]
  },
  {
   "cell_type": "code",
   "execution_count": 12,
   "metadata": {},
   "outputs": [
    {
     "name": "stdout",
     "output_type": "stream",
     "text": [
      "$90,000.00 - $175,000.00 /Year\n",
      "$60.00 - $75.00 /Hour\n",
      "1486\n"
     ]
    }
   ],
   "source": [
    "# check for later after mapping function\n",
    "print jobs.loc[2,'salary']\n",
    "print jobs.loc[6,'salary']\n",
    "print jobs.salary.isnull().sum()"
   ]
  },
  {
   "cell_type": "code",
   "execution_count": 13,
   "metadata": {},
   "outputs": [],
   "source": [
    "jobs.salary = jobs.salary.map(salary_cleaner)"
   ]
  },
  {
   "cell_type": "code",
   "execution_count": 14,
   "metadata": {},
   "outputs": [
    {
     "name": "stdout",
     "output_type": "stream",
     "text": [
      "132500.0\n",
      "152482.5\n",
      "1486\n"
     ]
    }
   ],
   "source": [
    "# verification for after mapping\n",
    "print jobs.loc[2,'salary']\n",
    "print jobs.loc[6,'salary']\n",
    "print jobs.salary.isnull().sum()"
   ]
  },
  {
   "cell_type": "code",
   "execution_count": 15,
   "metadata": {},
   "outputs": [
    {
     "data": {
      "text/html": [
       "<div>\n",
       "<style scoped>\n",
       "    .dataframe tbody tr th:only-of-type {\n",
       "        vertical-align: middle;\n",
       "    }\n",
       "\n",
       "    .dataframe tbody tr th {\n",
       "        vertical-align: top;\n",
       "    }\n",
       "\n",
       "    .dataframe thead th {\n",
       "        text-align: right;\n",
       "    }\n",
       "</style>\n",
       "<table border=\"1\" class=\"dataframe\">\n",
       "  <thead>\n",
       "    <tr style=\"text-align: right;\">\n",
       "      <th></th>\n",
       "      <th>category</th>\n",
       "      <th>company</th>\n",
       "      <th>details</th>\n",
       "      <th>experience</th>\n",
       "      <th>industry</th>\n",
       "      <th>location</th>\n",
       "      <th>salary</th>\n",
       "      <th>title</th>\n",
       "    </tr>\n",
       "  </thead>\n",
       "  <tbody>\n",
       "    <tr>\n",
       "      <th>0</th>\n",
       "      <td>Information Technology</td>\n",
       "      <td>Eliassen Group</td>\n",
       "      <td>\\nOur client is dedicated to delivering best-i...</td>\n",
       "      <td>NaN</td>\n",
       "      <td>Other Great Industries</td>\n",
       "      <td>201 South Tryon StreetCharlotte, NC 28202</td>\n",
       "      <td>NaN</td>\n",
       "      <td>Data Scientist</td>\n",
       "    </tr>\n",
       "    <tr>\n",
       "      <th>1</th>\n",
       "      <td>Information Technology</td>\n",
       "      <td>Rang Technologies</td>\n",
       "      <td>\\nRoles and Responsibilities:\\nThe client is i...</td>\n",
       "      <td>NaN</td>\n",
       "      <td>Computer Software</td>\n",
       "      <td>Moline, IL</td>\n",
       "      <td>NaN</td>\n",
       "      <td>Data Scientist</td>\n",
       "    </tr>\n",
       "    <tr>\n",
       "      <th>2</th>\n",
       "      <td>Information Technology</td>\n",
       "      <td>Austin Fraser</td>\n",
       "      <td>\\nAustin Fraser is working alongside a fantast...</td>\n",
       "      <td>NaN</td>\n",
       "      <td>Computer Software</td>\n",
       "      <td>Austin, TX</td>\n",
       "      <td>132500.0</td>\n",
       "      <td>Data Scientist</td>\n",
       "    </tr>\n",
       "  </tbody>\n",
       "</table>\n",
       "</div>"
      ],
      "text/plain": [
       "                 category            company  \\\n",
       "0  Information Technology     Eliassen Group   \n",
       "1  Information Technology  Rang Technologies   \n",
       "2  Information Technology      Austin Fraser   \n",
       "\n",
       "                                             details experience  \\\n",
       "0  \\nOur client is dedicated to delivering best-i...        NaN   \n",
       "1  \\nRoles and Responsibilities:\\nThe client is i...        NaN   \n",
       "2  \\nAustin Fraser is working alongside a fantast...        NaN   \n",
       "\n",
       "                 industry                                   location  \\\n",
       "0  Other Great Industries  201 South Tryon StreetCharlotte, NC 28202   \n",
       "1       Computer Software                                 Moline, IL   \n",
       "2       Computer Software                                 Austin, TX   \n",
       "\n",
       "     salary           title  \n",
       "0       NaN  Data Scientist  \n",
       "1       NaN  Data Scientist  \n",
       "2  132500.0  Data Scientist  "
      ]
     },
     "execution_count": 15,
     "metadata": {},
     "output_type": "execute_result"
    }
   ],
   "source": [
    "jobs.head(3)"
   ]
  },
  {
   "cell_type": "markdown",
   "metadata": {},
   "source": [
    "### Cleaning experience column"
   ]
  },
  {
   "cell_type": "code",
   "execution_count": 16,
   "metadata": {},
   "outputs": [
    {
     "data": {
      "text/plain": [
       "array([nan, '5+ years', '2+ years', '1+ years', '4-5+ years', '3-5 years',\n",
       "       '2 Years', '1 years', '2-5 years', '65 years', '5 years',\n",
       "       '1+ year', '4 years', '8 years', '3 years', '1-2 years',\n",
       "       '3+ years', '2 years', '4+ years', '1-3+ years', '8+ years',\n",
       "       '3-4 years', '7 years', '12 years', '5 to 8 years', '5-8 years',\n",
       "       '6+ years', '2 to 4 years', '5-7 years', '2-3 years', '7+ years',\n",
       "       '4-6 years', '15 years', '1 to 3 years', '1 year', '4-5 years',\n",
       "       '15+ years', '1-3 years', '#NAME?', '6 years', '5 Years',\n",
       "       '5-9 years', '2-7 years', '4 Years', '18 years', '1 to 2 years',\n",
       "       ' to 4 years', '5+ year', '2 to 8 years', '4 year', '25 years',\n",
       "       '3+ year', '-5 years', ' to 7+ years', '12+ years', '5 year',\n",
       "       ' to 6 Years', '3 - 5+ years', '5-7+ years', '5-7 Years',\n",
       "       ' to 5 years', '3-6 years', '3+ Years', ' - 2 years', '1+ Years',\n",
       "       '15+ Years', '2-4 years', '-2 years', '2-6 years', '2 year',\n",
       "       '3 Years', '3-5 year', '45 years', '1 - 2 years', '3-6 Years',\n",
       "       '7-8 years', '1-5 years', '29 years', '-3 years', '5 to 7 years',\n",
       "       ' - 5+ years', '1 Year', ' to 2 years', '1-6 years', '1 - 3 years',\n",
       "       '3-8 years', '6 Years', '3-5+ years', ' to 3 years', '4-7 years',\n",
       "       '4 - 6 years', '5 - 7 years', '4 to 7 years', '2-3+ years',\n",
       "       '6-8 years', '2-3 Years', ' to 1 year', '16 years', '5+ Years',\n",
       "       '12 Years', '11+ years', '14 years', '4 to 6 years', '4 - 7 years',\n",
       "       '3 to 8 years', '8 Years', '3+ Year', '8+ Years', '3-7 years',\n",
       "       '13 years', '4+ year', ' - 3+ Year', '7 to 8 years',\n",
       "       '1 to 3 Years', '3 to 5 years', '7+ year', ' - 3 years',\n",
       "       '2+ Years', '2-4+ years', '7 to 9 years', '7 - 9 years',\n",
       "       '7+ Years', '9 years', '1-2 year', '55 years', '77 years',\n",
       "       '3 - 5 years', '2 to 5 years', '37 years', '5-6 years',\n",
       "       '1-4 years', '1-5+ years', '35 years', '9+ years', '3-4+ years',\n",
       "       '5 Year', '2 - 5 years', ' to 7 years', '32 year', '75 years',\n",
       "       ' - 5 years', '5 - 8 years'], dtype=object)"
      ]
     },
     "execution_count": 16,
     "metadata": {},
     "output_type": "execute_result"
    }
   ],
   "source": [
    "# Print list of unique values for experience\n",
    "jobs.experience.unique()"
   ]
  },
  {
   "cell_type": "code",
   "execution_count": 17,
   "metadata": {},
   "outputs": [],
   "source": [
    "# Replacing '#NAME?' as null value\n",
    "jobs.experience.replace('#NAME?', np.NaN, inplace=True)"
   ]
  },
  {
   "cell_type": "code",
   "execution_count": 18,
   "metadata": {},
   "outputs": [
    {
     "data": {
      "text/html": [
       "<div>\n",
       "<style scoped>\n",
       "    .dataframe tbody tr th:only-of-type {\n",
       "        vertical-align: middle;\n",
       "    }\n",
       "\n",
       "    .dataframe tbody tr th {\n",
       "        vertical-align: top;\n",
       "    }\n",
       "\n",
       "    .dataframe thead th {\n",
       "        text-align: right;\n",
       "    }\n",
       "</style>\n",
       "<table border=\"1\" class=\"dataframe\">\n",
       "  <thead>\n",
       "    <tr style=\"text-align: right;\">\n",
       "      <th></th>\n",
       "      <th>category</th>\n",
       "      <th>company</th>\n",
       "      <th>details</th>\n",
       "      <th>experience</th>\n",
       "      <th>industry</th>\n",
       "      <th>location</th>\n",
       "      <th>salary</th>\n",
       "      <th>title</th>\n",
       "    </tr>\n",
       "  </thead>\n",
       "  <tbody>\n",
       "  </tbody>\n",
       "</table>\n",
       "</div>"
      ],
      "text/plain": [
       "Empty DataFrame\n",
       "Columns: [category, company, details, experience, industry, location, salary, title]\n",
       "Index: []"
      ]
     },
     "execution_count": 18,
     "metadata": {},
     "output_type": "execute_result"
    }
   ],
   "source": [
    "# Check to ensure no more '#Name?' value exists\n",
    "jobs[jobs['experience'] == '#NAME?']"
   ]
  },
  {
   "cell_type": "code",
   "execution_count": 19,
   "metadata": {},
   "outputs": [],
   "source": [
    "# function returns mid point of a given experience range, else pass if no data available\n",
    "# values above 15 are then removed as they are likely to refer to company age\n",
    "def experience_cleaner(exp_range):\n",
    "    try:\n",
    "        experience = np.mean([float(i) for i in re.findall(r'[0-9]+', exp_range)])\n",
    "        if experience > 15:\n",
    "            return np.NaN\n",
    "        else:\n",
    "            return experience\n",
    "    except TypeError:\n",
    "        pass\n",
    "    \n",
    "    return"
   ]
  },
  {
   "cell_type": "code",
   "execution_count": 20,
   "metadata": {},
   "outputs": [],
   "source": [
    "jobs.experience = jobs.experience.map(experience_cleaner)"
   ]
  },
  {
   "cell_type": "code",
   "execution_count": 21,
   "metadata": {},
   "outputs": [
    {
     "name": "stdout",
     "output_type": "stream",
     "text": [
      "<class 'pandas.core.frame.DataFrame'>\n",
      "RangeIndex: 2551 entries, 0 to 2550\n",
      "Data columns (total 8 columns):\n",
      "category      2519 non-null object\n",
      "company       2398 non-null object\n",
      "details       2551 non-null object\n",
      "experience    1487 non-null float64\n",
      "industry      2551 non-null object\n",
      "location      2549 non-null object\n",
      "salary        1065 non-null float64\n",
      "title         2551 non-null object\n",
      "dtypes: float64(2), object(6)\n",
      "memory usage: 159.5+ KB\n"
     ]
    }
   ],
   "source": [
    "jobs.info()"
   ]
  },
  {
   "cell_type": "code",
   "execution_count": 22,
   "metadata": {},
   "outputs": [
    {
     "data": {
      "text/plain": [
       "array([ nan,  5. ,  2. ,  1. ,  4.5,  4. ,  3.5,  8. ,  3. ,  1.5,  7. ,\n",
       "       12. ,  6.5,  6. ,  2.5, 15. ,  7.5,  5.5, 11. , 14. , 13. ,  9. ])"
      ]
     },
     "execution_count": 22,
     "metadata": {},
     "output_type": "execute_result"
    }
   ],
   "source": [
    "jobs.experience.unique()"
   ]
  },
  {
   "cell_type": "markdown",
   "metadata": {},
   "source": [
    "### Cleaning details column"
   ]
  },
  {
   "cell_type": "code",
   "execution_count": 23,
   "metadata": {},
   "outputs": [],
   "source": [
    "# removing formatting from details\n",
    "def details_cleaner(string):\n",
    "    return ''.join(s if ord(s)>31 and ord(s)<126 else ' ' for s in string )"
   ]
  },
  {
   "cell_type": "code",
   "execution_count": 24,
   "metadata": {},
   "outputs": [],
   "source": [
    "jobs.details = jobs.details.map(details_cleaner)"
   ]
  },
  {
   "cell_type": "markdown",
   "metadata": {},
   "source": [
    "### Cleaning industry column"
   ]
  },
  {
   "cell_type": "code",
   "execution_count": 25,
   "metadata": {},
   "outputs": [
    {
     "name": "stdout",
     "output_type": "stream",
     "text": [
      "Number of unique industries: 67\n"
     ]
    },
    {
     "data": {
      "text/plain": [
       "['Pharmaceutical',\n",
       " 'Architecture - Building',\n",
       " 'Mortgage',\n",
       " 'Entertainment',\n",
       " 'Travel',\n",
       " 'Credit - Loan - Collections',\n",
       " 'Legal',\n",
       " 'Chemical',\n",
       " 'Energy - Utilities - Gas - Electric',\n",
       " 'Not for Profit - Charitable',\n",
       " 'HVAC',\n",
       " 'Government - Civil Service',\n",
       " 'Defense - Aerospace',\n",
       " 'Internet - ECommerce',\n",
       " 'Other Great Industries',\n",
       " 'Medical Equipment',\n",
       " 'Electronics',\n",
       " 'Exercise - Fitness',\n",
       " 'Real Estate - Property Mgt',\n",
       " 'Oil Refining - Petroleum - Drilling',\n",
       " 'Transportation',\n",
       " 'Merchandising',\n",
       " 'Fashion - Apparel - Textile',\n",
       " 'Food',\n",
       " 'Science &amp; Technology',\n",
       " 'Healthcare - Health Services',\n",
       " 'Homebuilding',\n",
       " 'Wireless',\n",
       " 'Environmental',\n",
       " 'Managed Care',\n",
       " 'Construction',\n",
       " 'Social Services',\n",
       " 'Computer Hardware',\n",
       " 'Manufacturing',\n",
       " 'Airline - Aviation',\n",
       " 'Computer Software',\n",
       " 'Hotel - Resort',\n",
       " 'Training',\n",
       " 'Employment - Recruiting - Staffing',\n",
       " 'Restaurant',\n",
       " 'Public Relations',\n",
       " 'Broadcasting - Radio - TV',\n",
       " 'Education - Teaching - Administration',\n",
       " 'Automotive - Motor Vehicles - Parts',\n",
       " 'Hospitality',\n",
       " 'Advertising',\n",
       " 'Banking - Financial Services',\n",
       " 'Office Supplies - Equipment',\n",
       " 'Newspaper',\n",
       " 'Biotechnology',\n",
       " 'Security',\n",
       " 'Retail',\n",
       " 'Building Materials',\n",
       " 'Semiconductor',\n",
       " 'Consulting',\n",
       " 'Industrial',\n",
       " 'Consumer Products',\n",
       " 'Securities',\n",
       " 'Sales - Marketing',\n",
       " 'Insurance',\n",
       " 'Packaging',\n",
       " 'Printing - Publishing',\n",
       " 'Military',\n",
       " 'Accounting - Finance',\n",
       " 'Agriculture',\n",
       " 'Telecommunications',\n",
       " 'Art - Photography - Journalism']"
      ]
     },
     "execution_count": 25,
     "metadata": {},
     "output_type": "execute_result"
    }
   ],
   "source": [
    "# Inspect 'industry' unique values:\n",
    "job_industry = jobs['industry'].unique()\n",
    "unique_industries = []\n",
    "for industry_tag in job_industry:\n",
    "    if type(industry_tag) == str:\n",
    "        industry_list = industry_tag.split(\", \")\n",
    "        for industry in industry_list:\n",
    "            unique_industries.append(industry)\n",
    "unique_industries = list(set(unique_industries))\n",
    "print(\"Number of unique industries: {}\".format(len(unique_industries)))\n",
    "unique_industries"
   ]
  },
  {
   "cell_type": "markdown",
   "metadata": {},
   "source": [
    "#### Attempt to group similar industries\n",
    "Manual process with best effort"
   ]
  },
  {
   "cell_type": "code",
   "execution_count": 26,
   "metadata": {},
   "outputs": [],
   "source": [
    "jobs.industry = ['Civil Service' if 'Government' in i else i for i in jobs.industry]"
   ]
  },
  {
   "cell_type": "code",
   "execution_count": 27,
   "metadata": {},
   "outputs": [],
   "source": [
    "jobs.industry = ['Banking, Finance, Insurance' if 'Banking' in i or 'Insurance' in i or 'Finance' in i \n",
    "                 or 'Securities' in i or 'Credit' in i else i for i in jobs.industry]"
   ]
  },
  {
   "cell_type": "code",
   "execution_count": 28,
   "metadata": {},
   "outputs": [],
   "source": [
    "jobs.industry = ['Healthcare' if 'Health' in i or 'Biotech' in i or 'Pharmaceutical' in i or 'Medic' in i \n",
    "                 or 'Care' in i else i for i in jobs.industry]"
   ]
  },
  {
   "cell_type": "code",
   "execution_count": 29,
   "metadata": {},
   "outputs": [],
   "source": [
    "jobs.industry = ['ECommerce' if 'ECommerce' in i else i for i in jobs.industry]"
   ]
  },
  {
   "cell_type": "code",
   "execution_count": 30,
   "metadata": {},
   "outputs": [],
   "source": [
    "jobs.industry = ['Consulting' if 'Consult' in i else i for i in jobs.industry]"
   ]
  },
  {
   "cell_type": "code",
   "execution_count": 31,
   "metadata": {},
   "outputs": [],
   "source": [
    "jobs.industry = ['Energy' if 'Energy' in i or 'Oil' in i else i for i in jobs.industry]"
   ]
  },
  {
   "cell_type": "code",
   "execution_count": 32,
   "metadata": {},
   "outputs": [],
   "source": [
    "jobs.industry = ['Manufacturing' if 'Automotive' in i or 'Semiconductor' in i or 'Packaging' in i \n",
    "                 or 'Manufact' in i else i for i in jobs.industry]"
   ]
  },
  {
   "cell_type": "code",
   "execution_count": 33,
   "metadata": {},
   "outputs": [],
   "source": [
    "jobs.industry = ['Retail' if 'Consumer' in i or 'Merchan' in i or 'Fashion' in i or 'Retail' in i else i for i in jobs.industry]"
   ]
  },
  {
   "cell_type": "code",
   "execution_count": 34,
   "metadata": {},
   "outputs": [],
   "source": [
    "jobs.industry = ['Hospitality & Tourism' if 'Hotel' in i or 'Travel' in i or 'Hospitality' in i else i for i in jobs.industry]"
   ]
  },
  {
   "cell_type": "code",
   "execution_count": 35,
   "metadata": {},
   "outputs": [],
   "source": [
    "jobs.industry = ['Real Estate & Construction' if 'Construct' in i or 'Mortgage' in i or 'Building' in i \n",
    "                 or 'Home' in i or 'Estate' in i else i for i in jobs.industry]"
   ]
  },
  {
   "cell_type": "code",
   "execution_count": 36,
   "metadata": {},
   "outputs": [],
   "source": [
    "jobs.industry = ['Computer Software' if 'Software' in i else i for i in jobs.industry]"
   ]
  },
  {
   "cell_type": "code",
   "execution_count": 37,
   "metadata": {},
   "outputs": [],
   "source": [
    "jobs.industry = ['Computer Hardware & Electronics' if 'Hardware' in i or 'Electr' in i else i for i in jobs.industry]"
   ]
  },
  {
   "cell_type": "code",
   "execution_count": 38,
   "metadata": {},
   "outputs": [],
   "source": [
    "jobs.industry = ['Media' if 'Publish' in i or 'TV' in i or 'Journal' in i or 'News' in i or 'Advert' in i else i for i in jobs.industry]"
   ]
  },
  {
   "cell_type": "code",
   "execution_count": 39,
   "metadata": {},
   "outputs": [],
   "source": [
    "jobs.industry = ['Defense' if 'Milita' in i or 'Defense' in i else i for i in jobs.industry]"
   ]
  },
  {
   "cell_type": "code",
   "execution_count": 40,
   "metadata": {},
   "outputs": [],
   "source": [
    "jobs.industry = ['Education & Training' if 'Education' in i or 'Training' in i else i for i in jobs.industry]"
   ]
  },
  {
   "cell_type": "code",
   "execution_count": 41,
   "metadata": {},
   "outputs": [],
   "source": [
    "jobs.industry = ['Telecommunications' if 'Telecom' in i or 'Wireless' in i else i for i in jobs.industry]"
   ]
  },
  {
   "cell_type": "code",
   "execution_count": 42,
   "metadata": {},
   "outputs": [],
   "source": [
    "jobs.industry = ['Transport & Aviation' if 'Transport' in i or 'Aviation' in i else i for i in jobs.industry]"
   ]
  },
  {
   "cell_type": "code",
   "execution_count": 43,
   "metadata": {},
   "outputs": [],
   "source": [
    "jobs.industry = ['Services' if 'Services' in i or 'Marketing' in i or 'Media' in i \n",
    "                 or 'Hospitality' in i or 'Legal' in i else i for i in jobs.industry]"
   ]
  },
  {
   "cell_type": "code",
   "execution_count": 44,
   "metadata": {},
   "outputs": [],
   "source": [
    "industries = ['Education & Training', 'Healthcare', 'Computer Hardware & Electronics', 'Services', 'Transport & Aviation', \n",
    "              'Manufacturing', 'Computer Software', 'Employment - Recruiting - Staffing', 'Real Estate & Construction', \n",
    "              'Retail', 'ECommerce', 'Consulting', 'Civil Service', 'Energy', 'Defense', 'Telecommunications', 'Banking, Finance, Insurance']"
   ]
  },
  {
   "cell_type": "code",
   "execution_count": 45,
   "metadata": {},
   "outputs": [],
   "source": [
    "jobs.industry = ['Others' if i not in industries else i for i in jobs.industry]"
   ]
  },
  {
   "cell_type": "code",
   "execution_count": 46,
   "metadata": {},
   "outputs": [
    {
     "name": "stdout",
     "output_type": "stream",
     "text": [
      "Number of unique industries: 20\n"
     ]
    },
    {
     "data": {
      "text/plain": [
       "['Employment - Recruiting - Staffing',\n",
       " 'Real Estate & Construction',\n",
       " 'Consulting',\n",
       " 'Manufacturing',\n",
       " 'Finance',\n",
       " 'ECommerce',\n",
       " 'Computer Hardware & Electronics',\n",
       " 'Energy',\n",
       " 'Others',\n",
       " 'Education & Training',\n",
       " 'Telecommunications',\n",
       " 'Banking',\n",
       " 'Defense',\n",
       " 'Healthcare',\n",
       " 'Services',\n",
       " 'Transport & Aviation',\n",
       " 'Retail',\n",
       " 'Insurance',\n",
       " 'Civil Service',\n",
       " 'Computer Software']"
      ]
     },
     "execution_count": 46,
     "metadata": {},
     "output_type": "execute_result"
    }
   ],
   "source": [
    "# Inspect 'industry' unique values:\n",
    "job_industry = jobs['industry'].unique()\n",
    "unique_industries = []\n",
    "for industry_tag in job_industry:\n",
    "    if type(industry_tag) == str:\n",
    "        industry_list = industry_tag.split(\", \")\n",
    "        for industry in industry_list:\n",
    "            unique_industries.append(industry)\n",
    "unique_industries = list(set(unique_industries))\n",
    "print(\"Number of unique industries: {}\".format(len(unique_industries)))\n",
    "unique_industries"
   ]
  },
  {
   "cell_type": "code",
   "execution_count": 47,
   "metadata": {},
   "outputs": [
    {
     "data": {
      "text/plain": [
       "Others                                703\n",
       "Computer Software                     508\n",
       "Banking, Finance, Insurance           375\n",
       "Healthcare                            227\n",
       "Manufacturing                         166\n",
       "Consulting                             99\n",
       "Retail                                 62\n",
       "Energy                                 56\n",
       "Employment - Recruiting - Staffing     54\n",
       "ECommerce                              48\n",
       "Services                               42\n",
       "Civil Service                          41\n",
       "Telecommunications                     38\n",
       "Real Estate & Construction             32\n",
       "Education & Training                   26\n",
       "Defense                                25\n",
       "Transport & Aviation                   25\n",
       "Computer Hardware & Electronics        24\n",
       "Name: industry, dtype: int64"
      ]
     },
     "execution_count": 47,
     "metadata": {},
     "output_type": "execute_result"
    }
   ],
   "source": [
    "jobs.industry.value_counts()"
   ]
  },
  {
   "cell_type": "markdown",
   "metadata": {},
   "source": [
    "### Cleaning location column"
   ]
  },
  {
   "cell_type": "code",
   "execution_count": 48,
   "metadata": {},
   "outputs": [
    {
     "data": {
      "text/plain": [
       "Chicago, IL                                        70\n",
       "Charlotte, NC                                      64\n",
       "New York, NY                                       54\n",
       "Atlanta, GA                                        42\n",
       "Washington, DC                                     36\n",
       "Austin, TX                                         33\n",
       "Boston, MA                                         30\n",
       "Houston, TX                                        29\n",
       "Raleigh, NC                                        26\n",
       "Dallas, TX                                         26\n",
       "Cincinnati, OH                                     24\n",
       "San Francisco, CA                                  23\n",
       "Nashville, TN                                      22\n",
       "San Diego, CA                                      21\n",
       "Philadelphia, PA                                   19\n",
       "Seattle, WA                                        19\n",
       "Kansas City, MO                                    19\n",
       "Columbus, OH                                       18\n",
       "Cleveland, OH                                      17\n",
       "Plano, TX                                          16\n",
       "St. Louis, MO                                      15\n",
       "Irving, TX                                         15\n",
       "Richmond, VA                                       15\n",
       "Tampa, FL                                          14\n",
       "Indianapolis, IN                                   14\n",
       "Baltimore, MD                                      14\n",
       "Irvine, CA                                         14\n",
       "Phoenix, AZ                                        13\n",
       "Minneapolis, MN                                    13\n",
       "Birmingham, AL                                     13\n",
       "                                                   ..\n",
       "Mount Laurel, NJ 08054, NJ                          1\n",
       "4200 Morganton RoadFayetteville, NC 28314           1\n",
       "Chester, PA                                         1\n",
       "Englewood, CO 80111                                 1\n",
       "Chevy Chase Section Three, MD 20815                 1\n",
       "100 Brookwood PlaceHomewood, AL 35209               1\n",
       "12935 Alcosta BoulevardSan Ramon, CA 94583          1\n",
       "Portsmouth, VA                                      1\n",
       "3017 Business Park DriveStevens Point, WI 54482     1\n",
       "Berkeley, CA                                        1\n",
       "Portland, OR 97239                                  1\n",
       "Moon, PA                                            1\n",
       "Sterling Heights, MI                                1\n",
       "Chicago, IL 60614                                   1\n",
       "Thousand Palms, CA 92276                            1\n",
       "San Francisco, CA 94163                             1\n",
       "Jersey city, NJ 07395                               1\n",
       "Honolulu, HI 96818                                  1\n",
       "919 Hidden RidgeIrving, TX 75038                    1\n",
       "Arlington, VA 22202                                 1\n",
       "755 West NASA BoulevardMelbourne, FL 32901          1\n",
       "Findlay, OH                                         1\n",
       "Salt Lake City, UT 84111                            1\n",
       "Atlanta, GA 30342                                   1\n",
       "Beverly, MA 01915                                   1\n",
       "Spartanburg, ScSpartanburg, SC                      1\n",
       "Horsham, PA 19044                                   1\n",
       "Allen, TX                                           1\n",
       "Milford Mill, MD                                    1\n",
       "Austin, TX 78751                                    1\n",
       "Name: location, Length: 1107, dtype: int64"
      ]
     },
     "execution_count": 48,
     "metadata": {},
     "output_type": "execute_result"
    }
   ],
   "source": [
    "# too many unique values\n",
    "jobs.location.value_counts()"
   ]
  },
  {
   "cell_type": "code",
   "execution_count": 49,
   "metadata": {},
   "outputs": [
    {
     "data": {
      "text/html": [
       "<div>\n",
       "<style scoped>\n",
       "    .dataframe tbody tr th:only-of-type {\n",
       "        vertical-align: middle;\n",
       "    }\n",
       "\n",
       "    .dataframe tbody tr th {\n",
       "        vertical-align: top;\n",
       "    }\n",
       "\n",
       "    .dataframe thead th {\n",
       "        text-align: right;\n",
       "    }\n",
       "</style>\n",
       "<table border=\"1\" class=\"dataframe\">\n",
       "  <thead>\n",
       "    <tr style=\"text-align: right;\">\n",
       "      <th></th>\n",
       "      <th>category</th>\n",
       "      <th>company</th>\n",
       "      <th>details</th>\n",
       "      <th>experience</th>\n",
       "      <th>industry</th>\n",
       "      <th>location</th>\n",
       "      <th>salary</th>\n",
       "      <th>title</th>\n",
       "    </tr>\n",
       "  </thead>\n",
       "  <tbody>\n",
       "    <tr>\n",
       "      <th>1994</th>\n",
       "      <td>Information Technology, Management, Training</td>\n",
       "      <td>Federal-Mogul</td>\n",
       "      <td>Federal-Mogul  is now hiring an  LMS Manager ...</td>\n",
       "      <td>2.0</td>\n",
       "      <td>Computer Software</td>\n",
       "      <td>NaN</td>\n",
       "      <td>80000.0</td>\n",
       "      <td>Data Architect</td>\n",
       "    </tr>\n",
       "    <tr>\n",
       "      <th>2473</th>\n",
       "      <td>Manufacturing, Automotive, Other</td>\n",
       "      <td>Nemak</td>\n",
       "      <td>Nemak is a leading provider of innovative l...</td>\n",
       "      <td>4.5</td>\n",
       "      <td>Computer Hardware &amp; Electronics</td>\n",
       "      <td>NaN</td>\n",
       "      <td>NaN</td>\n",
       "      <td>Statistical Programmer</td>\n",
       "    </tr>\n",
       "  </tbody>\n",
       "</table>\n",
       "</div>"
      ],
      "text/plain": [
       "                                          category        company  \\\n",
       "1994  Information Technology, Management, Training  Federal-Mogul   \n",
       "2473              Manufacturing, Automotive, Other          Nemak   \n",
       "\n",
       "                                                details  experience  \\\n",
       "1994   Federal-Mogul  is now hiring an  LMS Manager ...         2.0   \n",
       "2473     Nemak is a leading provider of innovative l...         4.5   \n",
       "\n",
       "                             industry location   salary  \\\n",
       "1994                Computer Software      NaN  80000.0   \n",
       "2473  Computer Hardware & Electronics      NaN      NaN   \n",
       "\n",
       "                       title  \n",
       "1994          Data Architect  \n",
       "2473  Statistical Programmer  "
      ]
     },
     "execution_count": 49,
     "metadata": {},
     "output_type": "execute_result"
    }
   ],
   "source": [
    "jobs[jobs.location.isnull()]"
   ]
  },
  {
   "cell_type": "code",
   "execution_count": 50,
   "metadata": {},
   "outputs": [],
   "source": [
    "# imputing location values based on information in details column\n",
    "jobs.loc[1994, 'location'] = 'MI'\n",
    "jobs.loc[2473, 'location'] = 'WI'\n",
    "\n",
    "# Imputing location to prevent error in regex function in the next cell\n",
    "jobs.loc[1454,'location'] = 'TX'"
   ]
  },
  {
   "cell_type": "code",
   "execution_count": 51,
   "metadata": {},
   "outputs": [],
   "source": [
    "# Return 2 letter state code as location\n",
    "jobs.location = [re.search(r'[A-Z][A-Z]', i).group(0) for i in jobs.location]"
   ]
  },
  {
   "cell_type": "code",
   "execution_count": 52,
   "metadata": {},
   "outputs": [
    {
     "data": {
      "text/plain": [
       "CA    298\n",
       "TX    248\n",
       "IL    171\n",
       "NC    164\n",
       "VA    150\n",
       "NY    139\n",
       "FL    131\n",
       "GA    107\n",
       "PA    104\n",
       "NJ    103\n",
       "OH    100\n",
       "MA     82\n",
       "MD     71\n",
       "MO     68\n",
       "MI     63\n",
       "TN     59\n",
       "MN     50\n",
       "DC     49\n",
       "WA     45\n",
       "WI     35\n",
       "CO     33\n",
       "AZ     32\n",
       "CT     29\n",
       "IN     28\n",
       "AL     23\n",
       "IA     23\n",
       "KS     18\n",
       "SC     16\n",
       "NV     12\n",
       "KY     12\n",
       "OK      9\n",
       "LA      8\n",
       "DE      8\n",
       "UT      8\n",
       "NE      7\n",
       "OR      7\n",
       "RI      5\n",
       "MS      5\n",
       "ID      4\n",
       "NH      4\n",
       "HI      3\n",
       "AR      3\n",
       "PI      2\n",
       "ME      2\n",
       "NA      2\n",
       "NM      2\n",
       "WP      1\n",
       "BE      1\n",
       "WV      1\n",
       "CI      1\n",
       "KC      1\n",
       "ND      1\n",
       "DF      1\n",
       "SD      1\n",
       "RE      1\n",
       "Name: location, dtype: int64"
      ]
     },
     "execution_count": 52,
     "metadata": {},
     "output_type": "execute_result"
    }
   ],
   "source": [
    "jobs.location.value_counts()"
   ]
  },
  {
   "cell_type": "code",
   "execution_count": 53,
   "metadata": {},
   "outputs": [],
   "source": [
    "# Grouping locations with lesser than 15 counts as 'Others'\n",
    "location_count = jobs.location.value_counts()\n",
    "jobs.location = ['Others' if i in location_count[location_count < 15].index else i for i in jobs.location]"
   ]
  },
  {
   "cell_type": "code",
   "execution_count": 54,
   "metadata": {},
   "outputs": [
    {
     "data": {
      "text/plain": [
       "CA        298\n",
       "TX        248\n",
       "IL        171\n",
       "NC        164\n",
       "VA        150\n",
       "NY        139\n",
       "FL        131\n",
       "Others    112\n",
       "GA        107\n",
       "PA        104\n",
       "NJ        103\n",
       "OH        100\n",
       "MA         82\n",
       "MD         71\n",
       "MO         68\n",
       "MI         63\n",
       "TN         59\n",
       "MN         50\n",
       "DC         49\n",
       "WA         45\n",
       "WI         35\n",
       "CO         33\n",
       "AZ         32\n",
       "CT         29\n",
       "IN         28\n",
       "AL         23\n",
       "IA         23\n",
       "KS         18\n",
       "SC         16\n",
       "Name: location, dtype: int64"
      ]
     },
     "execution_count": 54,
     "metadata": {},
     "output_type": "execute_result"
    }
   ],
   "source": [
    "jobs.location.value_counts()"
   ]
  },
  {
   "cell_type": "code",
   "execution_count": 55,
   "metadata": {},
   "outputs": [
    {
     "data": {
      "text/plain": [
       "Text(0.5,1,'Count of jobs by State')"
      ]
     },
     "execution_count": 55,
     "metadata": {},
     "output_type": "execute_result"
    },
    {
     "data": {
      "image/png": "[encoded data removed]",
      "text/plain": [
       "<Figure size 1296x504 with 1 Axes>"
      ]
     },
     "metadata": {},
     "output_type": "display_data"
    }
   ],
   "source": [
    "# Visualisation of count of jobs across states\n",
    "plt.figure(figsize=[18,7])\n",
    "plt.bar(jobs.location.value_counts().index, jobs.location.value_counts())\n",
    "plt.title('Count of jobs by State', fontsize=18)"
   ]
  },
  {
   "cell_type": "code",
   "execution_count": 56,
   "metadata": {},
   "outputs": [
    {
     "data": {
      "text/html": [
       "<div>\n",
       "<style scoped>\n",
       "    .dataframe tbody tr th:only-of-type {\n",
       "        vertical-align: middle;\n",
       "    }\n",
       "\n",
       "    .dataframe tbody tr th {\n",
       "        vertical-align: top;\n",
       "    }\n",
       "\n",
       "    .dataframe thead th {\n",
       "        text-align: right;\n",
       "    }\n",
       "</style>\n",
       "<table border=\"1\" class=\"dataframe\">\n",
       "  <thead>\n",
       "    <tr style=\"text-align: right;\">\n",
       "      <th></th>\n",
       "      <th>category</th>\n",
       "      <th>company</th>\n",
       "      <th>details</th>\n",
       "      <th>experience</th>\n",
       "      <th>industry</th>\n",
       "      <th>location</th>\n",
       "      <th>salary</th>\n",
       "      <th>title</th>\n",
       "    </tr>\n",
       "  </thead>\n",
       "  <tbody>\n",
       "    <tr>\n",
       "      <th>0</th>\n",
       "      <td>Information Technology</td>\n",
       "      <td>Eliassen Group</td>\n",
       "      <td>Our client is dedicated to delivering best-in...</td>\n",
       "      <td>NaN</td>\n",
       "      <td>Others</td>\n",
       "      <td>NC</td>\n",
       "      <td>NaN</td>\n",
       "      <td>Data Scientist</td>\n",
       "    </tr>\n",
       "    <tr>\n",
       "      <th>1</th>\n",
       "      <td>Information Technology</td>\n",
       "      <td>Rang Technologies</td>\n",
       "      <td>Roles and Responsibilities: The client is in ...</td>\n",
       "      <td>NaN</td>\n",
       "      <td>Computer Software</td>\n",
       "      <td>IL</td>\n",
       "      <td>NaN</td>\n",
       "      <td>Data Scientist</td>\n",
       "    </tr>\n",
       "    <tr>\n",
       "      <th>2</th>\n",
       "      <td>Information Technology</td>\n",
       "      <td>Austin Fraser</td>\n",
       "      <td>Austin Fraser is working alongside a fantasti...</td>\n",
       "      <td>NaN</td>\n",
       "      <td>Computer Software</td>\n",
       "      <td>TX</td>\n",
       "      <td>132500.0</td>\n",
       "      <td>Data Scientist</td>\n",
       "    </tr>\n",
       "  </tbody>\n",
       "</table>\n",
       "</div>"
      ],
      "text/plain": [
       "                 category            company  \\\n",
       "0  Information Technology     Eliassen Group   \n",
       "1  Information Technology  Rang Technologies   \n",
       "2  Information Technology      Austin Fraser   \n",
       "\n",
       "                                             details  experience  \\\n",
       "0   Our client is dedicated to delivering best-in...         NaN   \n",
       "1   Roles and Responsibilities: The client is in ...         NaN   \n",
       "2   Austin Fraser is working alongside a fantasti...         NaN   \n",
       "\n",
       "            industry location    salary           title  \n",
       "0             Others       NC       NaN  Data Scientist  \n",
       "1  Computer Software       IL       NaN  Data Scientist  \n",
       "2  Computer Software       TX  132500.0  Data Scientist  "
      ]
     },
     "execution_count": 56,
     "metadata": {},
     "output_type": "execute_result"
    }
   ],
   "source": [
    "jobs.head(3)"
   ]
  },
  {
   "cell_type": "code",
   "execution_count": 57,
   "metadata": {},
   "outputs": [
    {
     "data": {
      "text/plain": [
       "Text(0.5,1,'Histogram: Salary')"
      ]
     },
     "execution_count": 57,
     "metadata": {},
     "output_type": "execute_result"
    },
    {
     "data": {
      "image/png": "[encoded data removed]",
      "text/plain": [
       "<Figure size 720x504 with 1 Axes>"
      ]
     },
     "metadata": {},
     "output_type": "display_data"
    }
   ],
   "source": [
    "# Visualising distribution of salary data for choosing appropriate bins for grouping\n",
    "plt.figure(figsize=[10,7])\n",
    "plt.hist(jobs[jobs.salary.notnull()].salary, bins = 15)\n",
    "plt.title('Histogram: Salary', fontsize=18)"
   ]
  },
  {
   "cell_type": "code",
   "execution_count": 58,
   "metadata": {},
   "outputs": [],
   "source": [
    "# binning salary column for classification\n",
    "\n",
    "bins = [0, 50000, 70000, 90000, 110000, 130000, 150000, 170000, np.inf]\n",
    "labels = ['<50k', '50k-70k','70k-90k','90k-110k','110k-130k','130k-150k','150k-170k','>170k']\n",
    "\n",
    "jobs['salary_range'] = pd.cut(jobs.salary, bins=bins, labels=labels)"
   ]
  },
  {
   "cell_type": "markdown",
   "metadata": {},
   "source": [
    "## Question 1"
   ]
  },
  {
   "cell_type": "code",
   "execution_count": 59,
   "metadata": {},
   "outputs": [],
   "source": [
    "# filtering columns with salary data to run our classification model\n",
    "jobs_with_salary = jobs[jobs.salary.notnull()]"
   ]
  },
  {
   "cell_type": "code",
   "execution_count": 60,
   "metadata": {},
   "outputs": [
    {
     "name": "stdout",
     "output_type": "stream",
     "text": [
      "<class 'pandas.core.frame.DataFrame'>\n",
      "Int64Index: 1065 entries, 2 to 2543\n",
      "Data columns (total 9 columns):\n",
      "category        1051 non-null object\n",
      "company         988 non-null object\n",
      "details         1065 non-null object\n",
      "experience      586 non-null float64\n",
      "industry        1065 non-null object\n",
      "location        1065 non-null object\n",
      "salary          1065 non-null float64\n",
      "title           1065 non-null object\n",
      "salary_range    1065 non-null category\n",
      "dtypes: category(1), float64(2), object(6)\n",
      "memory usage: 76.3+ KB\n"
     ]
    }
   ],
   "source": [
    "jobs_with_salary.info()"
   ]
  },
  {
   "cell_type": "code",
   "execution_count": 61,
   "metadata": {},
   "outputs": [],
   "source": [
    "# Dropping experience column due to high proportion of nulls\n",
    "# Dropping category column as the bulk of the data is not reflective of nature of job\n",
    "jobs_with_salary = jobs_with_salary.drop(columns=['experience','category']).dropna()"
   ]
  },
  {
   "cell_type": "code",
   "execution_count": 62,
   "metadata": {},
   "outputs": [
    {
     "name": "stdout",
     "output_type": "stream",
     "text": [
      "<class 'pandas.core.frame.DataFrame'>\n",
      "Int64Index: 988 entries, 2 to 2543\n",
      "Data columns (total 7 columns):\n",
      "company         988 non-null object\n",
      "details         988 non-null object\n",
      "industry        988 non-null object\n",
      "location        988 non-null object\n",
      "salary          988 non-null float64\n",
      "title           988 non-null object\n",
      "salary_range    988 non-null category\n",
      "dtypes: category(1), float64(1), object(5)\n",
      "memory usage: 55.4+ KB\n"
     ]
    }
   ],
   "source": [
    "jobs_with_salary.info()"
   ]
  },
  {
   "cell_type": "code",
   "execution_count": 63,
   "metadata": {},
   "outputs": [],
   "source": [
    "# joining variables in various columns as one single data point\n",
    "jobs_with_salary['data'] = jobs_with_salary.details + ' ' + jobs_with_salary.industry + ' ' + jobs_with_salary.location + ' ' + jobs_with_salary.title"
   ]
  },
  {
   "cell_type": "code",
   "execution_count": 64,
   "metadata": {},
   "outputs": [
    {
     "data": {
      "text/html": [
       "<div>\n",
       "<style scoped>\n",
       "    .dataframe tbody tr th:only-of-type {\n",
       "        vertical-align: middle;\n",
       "    }\n",
       "\n",
       "    .dataframe tbody tr th {\n",
       "        vertical-align: top;\n",
       "    }\n",
       "\n",
       "    .dataframe thead th {\n",
       "        text-align: right;\n",
       "    }\n",
       "</style>\n",
       "<table border=\"1\" class=\"dataframe\">\n",
       "  <thead>\n",
       "    <tr style=\"text-align: right;\">\n",
       "      <th></th>\n",
       "      <th>company</th>\n",
       "      <th>details</th>\n",
       "      <th>industry</th>\n",
       "      <th>location</th>\n",
       "      <th>salary</th>\n",
       "      <th>title</th>\n",
       "      <th>salary_range</th>\n",
       "      <th>data</th>\n",
       "    </tr>\n",
       "  </thead>\n",
       "  <tbody>\n",
       "    <tr>\n",
       "      <th>2</th>\n",
       "      <td>Austin Fraser</td>\n",
       "      <td>Austin Fraser is working alongside a fantasti...</td>\n",
       "      <td>Computer Software</td>\n",
       "      <td>TX</td>\n",
       "      <td>132500.0</td>\n",
       "      <td>Data Scientist</td>\n",
       "      <td>130k-150k</td>\n",
       "      <td>Austin Fraser is working alongside a fantasti...</td>\n",
       "    </tr>\n",
       "    <tr>\n",
       "      <th>3</th>\n",
       "      <td>FRG Technology Consulting</td>\n",
       "      <td>Data Scientist - Waltham, MA - $190K My clien...</td>\n",
       "      <td>Computer Software</td>\n",
       "      <td>MA</td>\n",
       "      <td>195000.0</td>\n",
       "      <td>Data Scientist</td>\n",
       "      <td>&gt;170k</td>\n",
       "      <td>Data Scientist - Waltham, MA - $190K My clien...</td>\n",
       "    </tr>\n",
       "    <tr>\n",
       "      <th>4</th>\n",
       "      <td>Roc Search Inc</td>\n",
       "      <td>Data Scientist - Education - $130,000With mil...</td>\n",
       "      <td>Computer Software</td>\n",
       "      <td>TX</td>\n",
       "      <td>115000.0</td>\n",
       "      <td>Data Scientist</td>\n",
       "      <td>110k-130k</td>\n",
       "      <td>Data Scientist - Education - $130,000With mil...</td>\n",
       "    </tr>\n",
       "    <tr>\n",
       "      <th>5</th>\n",
       "      <td>Synergy Business Consulting, Inc.</td>\n",
       "      <td>Data Scientist Position Summary:    Seeking a...</td>\n",
       "      <td>Services</td>\n",
       "      <td>FL</td>\n",
       "      <td>100000.0</td>\n",
       "      <td>Data Scientist</td>\n",
       "      <td>90k-110k</td>\n",
       "      <td>Data Scientist Position Summary:    Seeking a...</td>\n",
       "    </tr>\n",
       "    <tr>\n",
       "      <th>6</th>\n",
       "      <td>Catapult Staffing</td>\n",
       "      <td>We are looking to bring on a Senior-level  Da...</td>\n",
       "      <td>Energy</td>\n",
       "      <td>CA</td>\n",
       "      <td>152482.5</td>\n",
       "      <td>Data Scientist</td>\n",
       "      <td>150k-170k</td>\n",
       "      <td>We are looking to bring on a Senior-level  Da...</td>\n",
       "    </tr>\n",
       "  </tbody>\n",
       "</table>\n",
       "</div>"
      ],
      "text/plain": [
       "                             company  \\\n",
       "2                      Austin Fraser   \n",
       "3          FRG Technology Consulting   \n",
       "4                     Roc Search Inc   \n",
       "5  Synergy Business Consulting, Inc.   \n",
       "6                  Catapult Staffing   \n",
       "\n",
       "                                             details           industry  \\\n",
       "2   Austin Fraser is working alongside a fantasti...  Computer Software   \n",
       "3   Data Scientist - Waltham, MA - $190K My clien...  Computer Software   \n",
       "4   Data Scientist - Education - $130,000With mil...  Computer Software   \n",
       "5   Data Scientist Position Summary:    Seeking a...           Services   \n",
       "6   We are looking to bring on a Senior-level  Da...             Energy   \n",
       "\n",
       "  location    salary           title salary_range  \\\n",
       "2       TX  132500.0  Data Scientist    130k-150k   \n",
       "3       MA  195000.0  Data Scientist        >170k   \n",
       "4       TX  115000.0  Data Scientist    110k-130k   \n",
       "5       FL  100000.0  Data Scientist     90k-110k   \n",
       "6       CA  152482.5  Data Scientist    150k-170k   \n",
       "\n",
       "                                                data  \n",
       "2   Austin Fraser is working alongside a fantasti...  \n",
       "3   Data Scientist - Waltham, MA - $190K My clien...  \n",
       "4   Data Scientist - Education - $130,000With mil...  \n",
       "5   Data Scientist Position Summary:    Seeking a...  \n",
       "6   We are looking to bring on a Senior-level  Da...  "
      ]
     },
     "execution_count": 64,
     "metadata": {},
     "output_type": "execute_result"
    }
   ],
   "source": [
    "jobs_with_salary.head()"
   ]
  },
  {
   "cell_type": "code",
   "execution_count": 124,
   "metadata": {},
   "outputs": [],
   "source": [
    "from sklearn.pipeline import make_pipeline, make_union\n",
    "from sklearn.feature_extraction.text import CountVectorizer, TfidfVectorizer\n",
    "from sklearn.linear_model import LogisticRegression\n",
    "from sklearn.model_selection import GridSearchCV, train_test_split\n",
    "from sklearn.metrics import classification_report, accuracy_score, confusion_matrix\n",
    "from nltk.corpus import stopwords"
   ]
  },
  {
   "cell_type": "code",
   "execution_count": 66,
   "metadata": {},
   "outputs": [],
   "source": [
    "# Splitting data into train and test sets\n",
    "X_train, X_test, y_train, y_test = train_test_split(jobs_with_salary.data, \n",
    "                                                    jobs_with_salary.salary_range, \n",
    "                                                    test_size=0.2, random_state=42)"
   ]
  },
  {
   "cell_type": "code",
   "execution_count": 67,
   "metadata": {},
   "outputs": [
    {
     "name": "stdout",
     "output_type": "stream",
     "text": [
      "(790L,)\n",
      "(790,)\n",
      "(198L,)\n",
      "(198,)\n"
     ]
    }
   ],
   "source": [
    "print X_train.shape\n",
    "print y_train.shape\n",
    "print X_test.shape\n",
    "print y_test.shape"
   ]
  },
  {
   "cell_type": "markdown",
   "metadata": {},
   "source": [
    "### Basic Logistic Regression"
   ]
  },
  {
   "cell_type": "code",
   "execution_count": 70,
   "metadata": {},
   "outputs": [],
   "source": [
    "# Pipeline for basic model with no tuning\n",
    "pipeline = make_pipeline(CountVectorizer(), \n",
    "                         LogisticRegression())"
   ]
  },
  {
   "cell_type": "code",
   "execution_count": 71,
   "metadata": {},
   "outputs": [
    {
     "data": {
      "text/plain": [
       "Pipeline(memory=None,\n",
       "     steps=[('countvectorizer', CountVectorizer(analyzer=u'word', binary=False, decode_error=u'strict',\n",
       "        dtype=<type 'numpy.int64'>, encoding=u'utf-8', input=u'content',\n",
       "        lowercase=True, max_df=1.0, max_features=None, min_df=1,\n",
       "        ngram_range=(1, 1), preprocessor=None, stop_words=None,...ty='l2', random_state=None, solver='liblinear', tol=0.0001,\n",
       "          verbose=0, warm_start=False))])"
      ]
     },
     "execution_count": 71,
     "metadata": {},
     "output_type": "execute_result"
    }
   ],
   "source": [
    "pipeline.fit(X_train, y_train)"
   ]
  },
  {
   "cell_type": "code",
   "execution_count": 72,
   "metadata": {},
   "outputs": [
    {
     "data": {
      "text/plain": [
       "0.4393939393939394"
      ]
     },
     "execution_count": 72,
     "metadata": {},
     "output_type": "execute_result"
    }
   ],
   "source": [
    "pipeline.score(X_test, y_test)"
   ]
  },
  {
   "cell_type": "markdown",
   "metadata": {},
   "source": [
    "### Logistic Regression"
   ]
  },
  {
   "cell_type": "code",
   "execution_count": 73,
   "metadata": {},
   "outputs": [],
   "source": [
    "# tuning basic model with gridsearch\n",
    "nltk_stops = stopwords.words('english')\n",
    "\n",
    "gs_params = {'countvectorizer__stop_words': ['english',nltk_stops],\n",
    "             'countvectorizer__ngram_range': [(1,2),(2,3)],\n",
    "             'countvectorizer__min_df': [10, 0.005],\n",
    "             'logisticregression__C': [0.0001, 0.1, 10.0]}\n",
    "\n",
    "lr_gridsearch = GridSearchCV(pipeline, gs_params, cv=10, verbose=1, n_jobs=-1, scoring='accuracy')"
   ]
  },
  {
   "cell_type": "code",
   "execution_count": 74,
   "metadata": {},
   "outputs": [
    {
     "name": "stdout",
     "output_type": "stream",
     "text": [
      "Fitting 10 folds for each of 24 candidates, totalling 240 fits\n"
     ]
    },
    {
     "name": "stderr",
     "output_type": "stream",
     "text": [
      "[Parallel(n_jobs=-1)]: Done  34 tasks      | elapsed:   27.2s\n",
      "[Parallel(n_jobs=-1)]: Done 184 tasks      | elapsed:  2.4min\n",
      "[Parallel(n_jobs=-1)]: Done 240 out of 240 | elapsed:  3.4min finished\n"
     ]
    },
    {
     "data": {
      "text/plain": [
       "GridSearchCV(cv=10, error_score='raise',\n",
       "       estimator=Pipeline(memory=None,\n",
       "     steps=[('countvectorizer', CountVectorizer(analyzer=u'word', binary=False, decode_error=u'strict',\n",
       "        dtype=<type 'numpy.int64'>, encoding=u'utf-8', input=u'content',\n",
       "        lowercase=True, max_df=1.0, max_features=None, min_df=1,\n",
       "        ngram_range=(1, 1), preprocessor=None, stop_words=None,...ty='l2', random_state=None, solver='liblinear', tol=0.0001,\n",
       "          verbose=0, warm_start=False))]),\n",
       "       fit_params=None, iid=True, n_jobs=-1,\n",
       "       param_grid={'countvectorizer__ngram_range': [(1, 2), (2, 3)], 'countvectorizer__stop_words': ['english', [u'i', u'me', u'my', u'myself', u'we', u'our', u'ours', u'ourselves', u'you', u\"you're\", u\"you've\", u\"you'll\", u\"you'd\", u'your', u'yours', u'yourself', u'yourselves', u'he', u'him', u'his', u'hi...u\"wouldn't\"]], 'countvectorizer__min_df': [10, 0.005], 'logisticregression__C': [0.0001, 0.1, 10.0]},\n",
       "       pre_dispatch='2*n_jobs', refit=True, return_train_score='warn',\n",
       "       scoring='accuracy', verbose=1)"
      ]
     },
     "execution_count": 74,
     "metadata": {},
     "output_type": "execute_result"
    }
   ],
   "source": [
    "lr_gridsearch.fit(X_train,y_train)"
   ]
  },
  {
   "cell_type": "code",
   "execution_count": 75,
   "metadata": {},
   "outputs": [],
   "source": [
    "model = lr_gridsearch.best_estimator_"
   ]
  },
  {
   "cell_type": "code",
   "execution_count": 76,
   "metadata": {},
   "outputs": [
    {
     "data": {
      "text/plain": [
       "0.4292929292929293"
      ]
     },
     "execution_count": 76,
     "metadata": {},
     "output_type": "execute_result"
    }
   ],
   "source": [
    "model.score(X_test, y_test)"
   ]
  },
  {
   "cell_type": "code",
   "execution_count": 77,
   "metadata": {},
   "outputs": [
    {
     "name": "stdout",
     "output_type": "stream",
     "text": [
      "             precision    recall  f1-score   support\n",
      "\n",
      "  110k-130k       0.33      0.39      0.36        28\n",
      "  130k-150k       1.00      0.29      0.44        14\n",
      "  150k-170k       1.00      0.21      0.35        19\n",
      "    50k-70k       0.54      0.37      0.44        35\n",
      "    70k-90k       0.24      0.46      0.31        28\n",
      "   90k-110k       0.49      0.44      0.46        43\n",
      "       <50k       0.42      0.50      0.45        20\n",
      "      >170k       0.73      1.00      0.85        11\n",
      "\n",
      "avg / total       0.53      0.43      0.43       198\n",
      "\n"
     ]
    }
   ],
   "source": [
    "yhat = model.predict(X_test)\n",
    "\n",
    "print classification_report(y_test, yhat)"
   ]
  },
  {
   "cell_type": "code",
   "execution_count": 78,
   "metadata": {},
   "outputs": [],
   "source": [
    "from sklearn.ensemble import RandomForestClassifier, GradientBoostingClassifier"
   ]
  },
  {
   "cell_type": "markdown",
   "metadata": {},
   "source": [
    "### Random Forest Classifier"
   ]
  },
  {
   "cell_type": "code",
   "execution_count": 79,
   "metadata": {},
   "outputs": [],
   "source": [
    "pipeline = make_pipeline(CountVectorizer(stop_words=nltk_stops), \n",
    "                         RandomForestClassifier(n_jobs=-1))"
   ]
  },
  {
   "cell_type": "code",
   "execution_count": 80,
   "metadata": {},
   "outputs": [],
   "source": [
    "gs_params = {'countvectorizer__ngram_range': [(1,1),(1,2)],\n",
    "             'countvectorizer__min_df': [1, 10],\n",
    "             'randomforestclassifier__n_estimators': [150, 300],\n",
    "             'randomforestclassifier__max_features':['log2','sqrt'],\n",
    "             'randomforestclassifier__max_depth': [5, 10]}\n",
    "\n",
    "RF_gridsearch = GridSearchCV(pipeline, gs_params, cv=10, verbose=1, n_jobs=-1, scoring='accuracy')"
   ]
  },
  {
   "cell_type": "code",
   "execution_count": 81,
   "metadata": {},
   "outputs": [
    {
     "name": "stdout",
     "output_type": "stream",
     "text": [
      "Fitting 10 folds for each of 32 candidates, totalling 320 fits\n"
     ]
    },
    {
     "name": "stderr",
     "output_type": "stream",
     "text": [
      "[Parallel(n_jobs=-1)]: Done  34 tasks      | elapsed:   27.2s\n",
      "[Parallel(n_jobs=-1)]: Done 184 tasks      | elapsed:  2.7min\n",
      "[Parallel(n_jobs=-1)]: Done 320 out of 320 | elapsed:  4.8min finished\n"
     ]
    },
    {
     "data": {
      "text/plain": [
       "GridSearchCV(cv=10, error_score='raise',\n",
       "       estimator=Pipeline(memory=None,\n",
       "     steps=[('countvectorizer', CountVectorizer(analyzer=u'word', binary=False, decode_error=u'strict',\n",
       "        dtype=<type 'numpy.int64'>, encoding=u'utf-8', input=u'content',\n",
       "        lowercase=True, max_df=1.0, max_features=None, min_df=1,\n",
       "        ngram_range=(1, 1), preprocessor=None,\n",
       "        stop_wor..._jobs=-1,\n",
       "            oob_score=False, random_state=None, verbose=0,\n",
       "            warm_start=False))]),\n",
       "       fit_params=None, iid=True, n_jobs=-1,\n",
       "       param_grid={'randomforestclassifier__max_depth': [5, 10], 'countvectorizer__ngram_range': [(1, 1), (1, 2)], 'countvectorizer__min_df': [1, 10], 'randomforestclassifier__n_estimators': [150, 300], 'randomforestclassifier__max_features': ['log2', 'sqrt']},\n",
       "       pre_dispatch='2*n_jobs', refit=True, return_train_score='warn',\n",
       "       scoring='accuracy', verbose=1)"
      ]
     },
     "execution_count": 81,
     "metadata": {},
     "output_type": "execute_result"
    }
   ],
   "source": [
    "RF_gridsearch.fit(X_train, y_train)"
   ]
  },
  {
   "cell_type": "code",
   "execution_count": 82,
   "metadata": {},
   "outputs": [],
   "source": [
    "RF_model = RF_gridsearch.best_estimator_"
   ]
  },
  {
   "cell_type": "code",
   "execution_count": 83,
   "metadata": {},
   "outputs": [
    {
     "data": {
      "text/plain": [
       "{'countvectorizer__min_df': 10,\n",
       " 'countvectorizer__ngram_range': (1, 1),\n",
       " 'randomforestclassifier__max_depth': 10,\n",
       " 'randomforestclassifier__max_features': 'sqrt',\n",
       " 'randomforestclassifier__n_estimators': 150}"
      ]
     },
     "execution_count": 83,
     "metadata": {},
     "output_type": "execute_result"
    }
   ],
   "source": [
    "RF_gridsearch.best_params_"
   ]
  },
  {
   "cell_type": "code",
   "execution_count": 84,
   "metadata": {},
   "outputs": [
    {
     "data": {
      "text/plain": [
       "0.3333333333333333"
      ]
     },
     "execution_count": 84,
     "metadata": {},
     "output_type": "execute_result"
    }
   ],
   "source": [
    "RF_model.score(X_test, y_test)"
   ]
  },
  {
   "cell_type": "code",
   "execution_count": 85,
   "metadata": {},
   "outputs": [
    {
     "name": "stdout",
     "output_type": "stream",
     "text": [
      "             precision    recall  f1-score   support\n",
      "\n",
      "  110k-130k       0.44      0.25      0.32        28\n",
      "  130k-150k       1.00      0.07      0.13        14\n",
      "  150k-170k       0.75      0.16      0.26        19\n",
      "    50k-70k       0.67      0.06      0.11        35\n",
      "    70k-90k       0.22      0.79      0.34        28\n",
      "   90k-110k       0.36      0.49      0.42        43\n",
      "       <50k       0.67      0.30      0.41        20\n",
      "      >170k       0.67      0.36      0.47        11\n",
      "\n",
      "avg / total       0.54      0.33      0.30       198\n",
      "\n"
     ]
    }
   ],
   "source": [
    "yhat = RF_model.predict(X_test)\n",
    "\n",
    "print classification_report(y_test, yhat)"
   ]
  },
  {
   "cell_type": "markdown",
   "metadata": {},
   "source": [
    "### Gradient Boosting Classifier"
   ]
  },
  {
   "cell_type": "code",
   "execution_count": 87,
   "metadata": {},
   "outputs": [],
   "source": [
    "pipeline = make_pipeline(CountVectorizer(stop_words=nltk_stops, ngram_range=(1,2), min_df=10), \n",
    "                         GradientBoostingClassifier())"
   ]
  },
  {
   "cell_type": "code",
   "execution_count": 124,
   "metadata": {},
   "outputs": [],
   "source": [
    "gs_params = {'gradientboostingclassifier__learning_rate': [0.1, 0.01],\n",
    "             'gradientboostingclassifier__n_estimators': [500, 1000],\n",
    "             'gradientboostingclassifier__max_features':['log2','sqrt'],\n",
    "             'gradientboostingclassifier__max_depth': [5, 10]}\n",
    "\n",
    "GBM_gridsearch = GridSearchCV(pipeline, gs_params, cv=10, verbose=1, n_jobs=-1, scoring='accuracy')"
   ]
  },
  {
   "cell_type": "code",
   "execution_count": 125,
   "metadata": {},
   "outputs": [
    {
     "name": "stdout",
     "output_type": "stream",
     "text": [
      "Fitting 10 folds for each of 24 candidates, totalling 240 fits\n"
     ]
    },
    {
     "name": "stderr",
     "output_type": "stream",
     "text": [
      "[Parallel(n_jobs=-1)]: Done  34 tasks      | elapsed:  1.6min\n",
      "[Parallel(n_jobs=-1)]: Done 184 tasks      | elapsed: 10.2min\n",
      "[Parallel(n_jobs=-1)]: Done 240 out of 240 | elapsed: 16.0min finished\n"
     ]
    },
    {
     "data": {
      "text/plain": [
       "GridSearchCV(cv=10, error_score='raise',\n",
       "       estimator=Pipeline(memory=None,\n",
       "     steps=[('countvectorizer', CountVectorizer(analyzer=u'word', binary=False, decode_error=u'strict',\n",
       "        dtype=<type 'numpy.int64'>, encoding=u'utf-8', input=u'content',\n",
       "        lowercase=True, max_df=1.0, max_features=None, min_df=1,\n",
       "        ngram_range=(1, 1), preprocessor=None,\n",
       "        stop_wor...      presort='auto', random_state=None, subsample=1.0, verbose=0,\n",
       "              warm_start=False))]),\n",
       "       fit_params=None, iid=True, n_jobs=-1,\n",
       "       param_grid={'gradientboostingclassifier__learning_rate': [0.1, 0.01], 'gradientboostingclassifier__n_estimators': [500, 1000], 'gradientboostingclassifier__max_features': ['log2', 'sqrt'], 'gradientboostingclassifier__max_depth': [3, 5, 10]},\n",
       "       pre_dispatch='2*n_jobs', refit=True, return_train_score='warn',\n",
       "       scoring='accuracy', verbose=1)"
      ]
     },
     "execution_count": 125,
     "metadata": {},
     "output_type": "execute_result"
    }
   ],
   "source": [
    "GBM_gridsearch.fit(X_train, y_train)"
   ]
  },
  {
   "cell_type": "code",
   "execution_count": 126,
   "metadata": {},
   "outputs": [],
   "source": [
    "GBM_model = GBM_gridsearch.best_estimator_"
   ]
  },
  {
   "cell_type": "code",
   "execution_count": 127,
   "metadata": {
    "scrolled": true
   },
   "outputs": [
    {
     "data": {
      "text/plain": [
       "{'gradientboostingclassifier__learning_rate': 0.1,\n",
       " 'gradientboostingclassifier__max_depth': 5,\n",
       " 'gradientboostingclassifier__max_features': 'sqrt',\n",
       " 'gradientboostingclassifier__n_estimators': 1000}"
      ]
     },
     "execution_count": 127,
     "metadata": {},
     "output_type": "execute_result"
    }
   ],
   "source": [
    "GBM_gridsearch.best_params_"
   ]
  },
  {
   "cell_type": "code",
   "execution_count": 128,
   "metadata": {},
   "outputs": [
    {
     "data": {
      "text/plain": [
       "0.4292929292929293"
      ]
     },
     "execution_count": 128,
     "metadata": {},
     "output_type": "execute_result"
    }
   ],
   "source": [
    "GBM_model.score(X_test, y_test)"
   ]
  },
  {
   "cell_type": "code",
   "execution_count": 129,
   "metadata": {},
   "outputs": [
    {
     "name": "stdout",
     "output_type": "stream",
     "text": [
      "             precision    recall  f1-score   support\n",
      "\n",
      "  110k-130k       0.40      0.43      0.41        28\n",
      "  130k-150k       0.57      0.29      0.38        14\n",
      "  150k-170k       0.67      0.21      0.32        19\n",
      "    50k-70k       0.62      0.23      0.33        35\n",
      "    70k-90k       0.29      0.71      0.41        28\n",
      "   90k-110k       0.37      0.47      0.41        43\n",
      "       <50k       0.91      0.50      0.65        20\n",
      "      >170k       1.00      0.64      0.78        11\n",
      "\n",
      "avg / total       0.54      0.43      0.43       198\n",
      "\n"
     ]
    }
   ],
   "source": [
    "yhat = GBM_model.predict(X_test)\n",
    "\n",
    "print classification_report(y_test, yhat)"
   ]
  },
  {
   "cell_type": "markdown",
   "metadata": {},
   "source": [
    "### Support Vector Classifier"
   ]
  },
  {
   "cell_type": "code",
   "execution_count": 88,
   "metadata": {},
   "outputs": [],
   "source": [
    "from sklearn.svm import SVC\n",
    "\n",
    "pipeline = make_pipeline(CountVectorizer(stop_words=nltk_stops, ngram_range=(1,2), min_df=10), \n",
    "                         SVC())"
   ]
  },
  {
   "cell_type": "code",
   "execution_count": 138,
   "metadata": {},
   "outputs": [],
   "source": [
    "gs_params = {'svc__gamma': np.logspace(-5, 2, 5),\n",
    "             'svc__C': np.logspace(-3, 2, 5),\n",
    "             'svc__kernel': ['rbf', 'sigmoid', 'linear']}\n",
    "\n",
    "SVM_gridsearch = GridSearchCV(pipeline, gs_params, cv=10, scoring='accuracy', verbose=1, n_jobs=-1)"
   ]
  },
  {
   "cell_type": "code",
   "execution_count": 139,
   "metadata": {},
   "outputs": [
    {
     "name": "stdout",
     "output_type": "stream",
     "text": [
      "Fitting 10 folds for each of 75 candidates, totalling 750 fits\n"
     ]
    },
    {
     "name": "stderr",
     "output_type": "stream",
     "text": [
      "[Parallel(n_jobs=-1)]: Done  34 tasks      | elapsed:   52.4s\n",
      "[Parallel(n_jobs=-1)]: Done 184 tasks      | elapsed:  4.0min\n",
      "[Parallel(n_jobs=-1)]: Done 434 tasks      | elapsed:  9.2min\n",
      "[Parallel(n_jobs=-1)]: Done 750 out of 750 | elapsed: 15.7min finished\n"
     ]
    },
    {
     "data": {
      "text/plain": [
       "GridSearchCV(cv=10, error_score='raise',\n",
       "       estimator=Pipeline(memory=None,\n",
       "     steps=[('countvectorizer', CountVectorizer(analyzer=u'word', binary=False, decode_error=u'strict',\n",
       "        dtype=<type 'numpy.int64'>, encoding=u'utf-8', input=u'content',\n",
       "        lowercase=True, max_df=1.0, max_features=None, min_df=10,\n",
       "        ngram_range=(1, 2), preprocessor=None,\n",
       "        stop_wo...,\n",
       "  max_iter=-1, probability=False, random_state=None, shrinking=True,\n",
       "  tol=0.001, verbose=False))]),\n",
       "       fit_params=None, iid=True, n_jobs=-1,\n",
       "       param_grid={'svc__gamma': array([1.00000e-05, 5.62341e-04, 3.16228e-02, 1.77828e+00, 1.00000e+02]), 'svc__kernel': ['rbf', 'sigmoid', 'linear'], 'svc__C': array([1.00000e-03, 1.77828e-02, 3.16228e-01, 5.62341e+00, 1.00000e+02])},\n",
       "       pre_dispatch='2*n_jobs', refit=True, return_train_score='warn',\n",
       "       scoring='accuracy', verbose=1)"
      ]
     },
     "execution_count": 139,
     "metadata": {},
     "output_type": "execute_result"
    }
   ],
   "source": [
    "SVM_gridsearch.fit(X_train, y_train)"
   ]
  },
  {
   "cell_type": "code",
   "execution_count": 140,
   "metadata": {},
   "outputs": [],
   "source": [
    "SVM_model = SVM_gridsearch.best_estimator_"
   ]
  },
  {
   "cell_type": "code",
   "execution_count": null,
   "metadata": {},
   "outputs": [],
   "source": [
    "SVM_gridsearch."
   ]
  },
  {
   "cell_type": "code",
   "execution_count": 141,
   "metadata": {},
   "outputs": [
    {
     "data": {
      "text/plain": [
       "{'svc__C': 0.01778279410038923, 'svc__gamma': 1e-05, 'svc__kernel': 'linear'}"
      ]
     },
     "execution_count": 141,
     "metadata": {},
     "output_type": "execute_result"
    }
   ],
   "source": [
    "SVM_gridsearch.best_params_"
   ]
  },
  {
   "cell_type": "code",
   "execution_count": 142,
   "metadata": {},
   "outputs": [
    {
     "data": {
      "text/plain": [
       "0.4444444444444444"
      ]
     },
     "execution_count": 142,
     "metadata": {},
     "output_type": "execute_result"
    }
   ],
   "source": [
    "SVM_model.score(X_test, y_test)"
   ]
  },
  {
   "cell_type": "code",
   "execution_count": 143,
   "metadata": {},
   "outputs": [
    {
     "name": "stdout",
     "output_type": "stream",
     "text": [
      "             precision    recall  f1-score   support\n",
      "\n",
      "  110k-130k       0.42      0.36      0.38        28\n",
      "  130k-150k       0.50      0.43      0.46        14\n",
      "  150k-170k       0.67      0.32      0.43        19\n",
      "    50k-70k       0.42      0.37      0.39        35\n",
      "    70k-90k       0.25      0.50      0.34        28\n",
      "   90k-110k       0.53      0.40      0.45        43\n",
      "       <50k       0.57      0.60      0.59        20\n",
      "      >170k       0.71      0.91      0.80        11\n",
      "\n",
      "avg / total       0.48      0.44      0.45       198\n",
      "\n"
     ]
    }
   ],
   "source": [
    "yhat = SVM_model.predict(X_test)\n",
    "\n",
    "print classification_report(y_test, yhat)"
   ]
  },
  {
   "cell_type": "markdown",
   "metadata": {},
   "source": [
    "Although we have ran multiple classification models, accuracy score does not seem to go above 45%. More tuning of hyperparameters can be explored to improve those models.\n",
    "\n",
    "Another reason could be due to the small dataset, which may be insufficient to train our model well.\n",
    "\n",
    "We also notice that certain classes tend to be predicted better vs the rest, this suggest there may be unique features within such classes."
   ]
  },
  {
   "cell_type": "markdown",
   "metadata": {},
   "source": [
    "### Question 2"
   ]
  },
  {
   "cell_type": "code",
   "execution_count": 89,
   "metadata": {},
   "outputs": [],
   "source": [
    "# Binarising title column to be 1 if data scientist else 0\n",
    "jobs['is_DS'] = [1 if i == 'Data Scientist' else 0 for i in jobs.title]"
   ]
  },
  {
   "cell_type": "code",
   "execution_count": 90,
   "metadata": {},
   "outputs": [
    {
     "data": {
      "text/html": [
       "<div>\n",
       "<style scoped>\n",
       "    .dataframe tbody tr th:only-of-type {\n",
       "        vertical-align: middle;\n",
       "    }\n",
       "\n",
       "    .dataframe tbody tr th {\n",
       "        vertical-align: top;\n",
       "    }\n",
       "\n",
       "    .dataframe thead th {\n",
       "        text-align: right;\n",
       "    }\n",
       "</style>\n",
       "<table border=\"1\" class=\"dataframe\">\n",
       "  <thead>\n",
       "    <tr style=\"text-align: right;\">\n",
       "      <th></th>\n",
       "      <th>category</th>\n",
       "      <th>company</th>\n",
       "      <th>details</th>\n",
       "      <th>experience</th>\n",
       "      <th>industry</th>\n",
       "      <th>location</th>\n",
       "      <th>salary</th>\n",
       "      <th>title</th>\n",
       "      <th>salary_range</th>\n",
       "      <th>is_DS</th>\n",
       "    </tr>\n",
       "  </thead>\n",
       "  <tbody>\n",
       "    <tr>\n",
       "      <th>0</th>\n",
       "      <td>Information Technology</td>\n",
       "      <td>Eliassen Group</td>\n",
       "      <td>Our client is dedicated to delivering best-in...</td>\n",
       "      <td>NaN</td>\n",
       "      <td>Others</td>\n",
       "      <td>NC</td>\n",
       "      <td>NaN</td>\n",
       "      <td>Data Scientist</td>\n",
       "      <td>NaN</td>\n",
       "      <td>1</td>\n",
       "    </tr>\n",
       "    <tr>\n",
       "      <th>1</th>\n",
       "      <td>Information Technology</td>\n",
       "      <td>Rang Technologies</td>\n",
       "      <td>Roles and Responsibilities: The client is in ...</td>\n",
       "      <td>NaN</td>\n",
       "      <td>Computer Software</td>\n",
       "      <td>IL</td>\n",
       "      <td>NaN</td>\n",
       "      <td>Data Scientist</td>\n",
       "      <td>NaN</td>\n",
       "      <td>1</td>\n",
       "    </tr>\n",
       "    <tr>\n",
       "      <th>2</th>\n",
       "      <td>Information Technology</td>\n",
       "      <td>Austin Fraser</td>\n",
       "      <td>Austin Fraser is working alongside a fantasti...</td>\n",
       "      <td>NaN</td>\n",
       "      <td>Computer Software</td>\n",
       "      <td>TX</td>\n",
       "      <td>132500.0</td>\n",
       "      <td>Data Scientist</td>\n",
       "      <td>130k-150k</td>\n",
       "      <td>1</td>\n",
       "    </tr>\n",
       "  </tbody>\n",
       "</table>\n",
       "</div>"
      ],
      "text/plain": [
       "                 category            company  \\\n",
       "0  Information Technology     Eliassen Group   \n",
       "1  Information Technology  Rang Technologies   \n",
       "2  Information Technology      Austin Fraser   \n",
       "\n",
       "                                             details  experience  \\\n",
       "0   Our client is dedicated to delivering best-in...         NaN   \n",
       "1   Roles and Responsibilities: The client is in ...         NaN   \n",
       "2   Austin Fraser is working alongside a fantasti...         NaN   \n",
       "\n",
       "            industry location    salary           title salary_range  is_DS  \n",
       "0             Others       NC       NaN  Data Scientist          NaN      1  \n",
       "1  Computer Software       IL       NaN  Data Scientist          NaN      1  \n",
       "2  Computer Software       TX  132500.0  Data Scientist    130k-150k      1  "
      ]
     },
     "execution_count": 90,
     "metadata": {},
     "output_type": "execute_result"
    }
   ],
   "source": [
    "jobs.head(3)"
   ]
  },
  {
   "cell_type": "code",
   "execution_count": 91,
   "metadata": {},
   "outputs": [],
   "source": [
    "jobs_q2 = jobs[jobs.salary.notnull()].reset_index(drop=True)"
   ]
  },
  {
   "cell_type": "code",
   "execution_count": 92,
   "metadata": {},
   "outputs": [
    {
     "data": {
      "text/html": [
       "<div>\n",
       "<style scoped>\n",
       "    .dataframe tbody tr th:only-of-type {\n",
       "        vertical-align: middle;\n",
       "    }\n",
       "\n",
       "    .dataframe tbody tr th {\n",
       "        vertical-align: top;\n",
       "    }\n",
       "\n",
       "    .dataframe thead th {\n",
       "        text-align: right;\n",
       "    }\n",
       "</style>\n",
       "<table border=\"1\" class=\"dataframe\">\n",
       "  <thead>\n",
       "    <tr style=\"text-align: right;\">\n",
       "      <th></th>\n",
       "      <th>category</th>\n",
       "      <th>company</th>\n",
       "      <th>details</th>\n",
       "      <th>experience</th>\n",
       "      <th>industry</th>\n",
       "      <th>location</th>\n",
       "      <th>salary</th>\n",
       "      <th>title</th>\n",
       "      <th>salary_range</th>\n",
       "      <th>is_DS</th>\n",
       "    </tr>\n",
       "  </thead>\n",
       "  <tbody>\n",
       "    <tr>\n",
       "      <th>0</th>\n",
       "      <td>Information Technology</td>\n",
       "      <td>Austin Fraser</td>\n",
       "      <td>Austin Fraser is working alongside a fantasti...</td>\n",
       "      <td>NaN</td>\n",
       "      <td>Computer Software</td>\n",
       "      <td>TX</td>\n",
       "      <td>132500.0</td>\n",
       "      <td>Data Scientist</td>\n",
       "      <td>130k-150k</td>\n",
       "      <td>1</td>\n",
       "    </tr>\n",
       "    <tr>\n",
       "      <th>1</th>\n",
       "      <td>Information Technology</td>\n",
       "      <td>FRG Technology Consulting</td>\n",
       "      <td>Data Scientist - Waltham, MA - $190K My clien...</td>\n",
       "      <td>NaN</td>\n",
       "      <td>Computer Software</td>\n",
       "      <td>MA</td>\n",
       "      <td>195000.0</td>\n",
       "      <td>Data Scientist</td>\n",
       "      <td>&gt;170k</td>\n",
       "      <td>1</td>\n",
       "    </tr>\n",
       "    <tr>\n",
       "      <th>2</th>\n",
       "      <td>Information Technology</td>\n",
       "      <td>Roc Search Inc</td>\n",
       "      <td>Data Scientist - Education - $130,000With mil...</td>\n",
       "      <td>5.0</td>\n",
       "      <td>Computer Software</td>\n",
       "      <td>TX</td>\n",
       "      <td>115000.0</td>\n",
       "      <td>Data Scientist</td>\n",
       "      <td>110k-130k</td>\n",
       "      <td>1</td>\n",
       "    </tr>\n",
       "    <tr>\n",
       "      <th>3</th>\n",
       "      <td>Information Technology</td>\n",
       "      <td>Synergy Business Consulting, Inc.</td>\n",
       "      <td>Data Scientist Position Summary:    Seeking a...</td>\n",
       "      <td>2.0</td>\n",
       "      <td>Services</td>\n",
       "      <td>FL</td>\n",
       "      <td>100000.0</td>\n",
       "      <td>Data Scientist</td>\n",
       "      <td>90k-110k</td>\n",
       "      <td>1</td>\n",
       "    </tr>\n",
       "    <tr>\n",
       "      <th>4</th>\n",
       "      <td>Information Technology</td>\n",
       "      <td>Catapult Staffing</td>\n",
       "      <td>We are looking to bring on a Senior-level  Da...</td>\n",
       "      <td>NaN</td>\n",
       "      <td>Energy</td>\n",
       "      <td>CA</td>\n",
       "      <td>152482.5</td>\n",
       "      <td>Data Scientist</td>\n",
       "      <td>150k-170k</td>\n",
       "      <td>1</td>\n",
       "    </tr>\n",
       "  </tbody>\n",
       "</table>\n",
       "</div>"
      ],
      "text/plain": [
       "                 category                            company  \\\n",
       "0  Information Technology                      Austin Fraser   \n",
       "1  Information Technology          FRG Technology Consulting   \n",
       "2  Information Technology                     Roc Search Inc   \n",
       "3  Information Technology  Synergy Business Consulting, Inc.   \n",
       "4  Information Technology                  Catapult Staffing   \n",
       "\n",
       "                                             details  experience  \\\n",
       "0   Austin Fraser is working alongside a fantasti...         NaN   \n",
       "1   Data Scientist - Waltham, MA - $190K My clien...         NaN   \n",
       "2   Data Scientist - Education - $130,000With mil...         5.0   \n",
       "3   Data Scientist Position Summary:    Seeking a...         2.0   \n",
       "4   We are looking to bring on a Senior-level  Da...         NaN   \n",
       "\n",
       "            industry location    salary           title salary_range  is_DS  \n",
       "0  Computer Software       TX  132500.0  Data Scientist    130k-150k      1  \n",
       "1  Computer Software       MA  195000.0  Data Scientist        >170k      1  \n",
       "2  Computer Software       TX  115000.0  Data Scientist    110k-130k      1  \n",
       "3           Services       FL  100000.0  Data Scientist     90k-110k      1  \n",
       "4             Energy       CA  152482.5  Data Scientist    150k-170k      1  "
      ]
     },
     "execution_count": 92,
     "metadata": {},
     "output_type": "execute_result"
    }
   ],
   "source": [
    "jobs_q2.head()"
   ]
  },
  {
   "cell_type": "code",
   "execution_count": 93,
   "metadata": {},
   "outputs": [],
   "source": [
    "# Vectorising details column with TFIDF\n",
    "vect = TfidfVectorizer(stop_words=nltk_stops, ngram_range=(1,2), max_features=1000)\n",
    "text = pd.DataFrame(vect.fit_transform(jobs_q2.details).toarray(), columns=vect.get_feature_names())"
   ]
  },
  {
   "cell_type": "code",
   "execution_count": 94,
   "metadata": {},
   "outputs": [
    {
     "data": {
      "text/html": [
       "<div>\n",
       "<style scoped>\n",
       "    .dataframe tbody tr th:only-of-type {\n",
       "        vertical-align: middle;\n",
       "    }\n",
       "\n",
       "    .dataframe tbody tr th {\n",
       "        vertical-align: top;\n",
       "    }\n",
       "\n",
       "    .dataframe thead th {\n",
       "        text-align: right;\n",
       "    }\n",
       "</style>\n",
       "<table border=\"1\" class=\"dataframe\">\n",
       "  <thead>\n",
       "    <tr style=\"text-align: right;\">\n",
       "      <th></th>\n",
       "      <th>00</th>\n",
       "      <th>00 per</th>\n",
       "      <th>000</th>\n",
       "      <th>000 00</th>\n",
       "      <th>10</th>\n",
       "      <th>10 years</th>\n",
       "      <th>100</th>\n",
       "      <th>12</th>\n",
       "      <th>2018</th>\n",
       "      <th>2018 robert</th>\n",
       "      <th>...</th>\n",
       "      <th>would</th>\n",
       "      <th>write</th>\n",
       "      <th>writing</th>\n",
       "      <th>written</th>\n",
       "      <th>written communication</th>\n",
       "      <th>written verbal</th>\n",
       "      <th>www</th>\n",
       "      <th>year</th>\n",
       "      <th>years</th>\n",
       "      <th>years experience</th>\n",
       "    </tr>\n",
       "  </thead>\n",
       "  <tbody>\n",
       "    <tr>\n",
       "      <th>0</th>\n",
       "      <td>0.0</td>\n",
       "      <td>0.0</td>\n",
       "      <td>0.00000</td>\n",
       "      <td>0.0</td>\n",
       "      <td>0.0</td>\n",
       "      <td>0.0</td>\n",
       "      <td>0.0</td>\n",
       "      <td>0.0</td>\n",
       "      <td>0.0</td>\n",
       "      <td>0.0</td>\n",
       "      <td>...</td>\n",
       "      <td>0.000000</td>\n",
       "      <td>0.0</td>\n",
       "      <td>0.000000</td>\n",
       "      <td>0.000000</td>\n",
       "      <td>0.0</td>\n",
       "      <td>0.0</td>\n",
       "      <td>0.000000</td>\n",
       "      <td>0.0</td>\n",
       "      <td>0.026443</td>\n",
       "      <td>0.000000</td>\n",
       "    </tr>\n",
       "    <tr>\n",
       "      <th>1</th>\n",
       "      <td>0.0</td>\n",
       "      <td>0.0</td>\n",
       "      <td>0.00000</td>\n",
       "      <td>0.0</td>\n",
       "      <td>0.0</td>\n",
       "      <td>0.0</td>\n",
       "      <td>0.0</td>\n",
       "      <td>0.0</td>\n",
       "      <td>0.0</td>\n",
       "      <td>0.0</td>\n",
       "      <td>...</td>\n",
       "      <td>0.028374</td>\n",
       "      <td>0.0</td>\n",
       "      <td>0.000000</td>\n",
       "      <td>0.000000</td>\n",
       "      <td>0.0</td>\n",
       "      <td>0.0</td>\n",
       "      <td>0.032752</td>\n",
       "      <td>0.0</td>\n",
       "      <td>0.000000</td>\n",
       "      <td>0.000000</td>\n",
       "    </tr>\n",
       "    <tr>\n",
       "      <th>2</th>\n",
       "      <td>0.0</td>\n",
       "      <td>0.0</td>\n",
       "      <td>0.06285</td>\n",
       "      <td>0.0</td>\n",
       "      <td>0.0</td>\n",
       "      <td>0.0</td>\n",
       "      <td>0.0</td>\n",
       "      <td>0.0</td>\n",
       "      <td>0.0</td>\n",
       "      <td>0.0</td>\n",
       "      <td>...</td>\n",
       "      <td>0.000000</td>\n",
       "      <td>0.0</td>\n",
       "      <td>0.000000</td>\n",
       "      <td>0.000000</td>\n",
       "      <td>0.0</td>\n",
       "      <td>0.0</td>\n",
       "      <td>0.000000</td>\n",
       "      <td>0.0</td>\n",
       "      <td>0.030156</td>\n",
       "      <td>0.000000</td>\n",
       "    </tr>\n",
       "    <tr>\n",
       "      <th>3</th>\n",
       "      <td>0.0</td>\n",
       "      <td>0.0</td>\n",
       "      <td>0.00000</td>\n",
       "      <td>0.0</td>\n",
       "      <td>0.0</td>\n",
       "      <td>0.0</td>\n",
       "      <td>0.0</td>\n",
       "      <td>0.0</td>\n",
       "      <td>0.0</td>\n",
       "      <td>0.0</td>\n",
       "      <td>...</td>\n",
       "      <td>0.000000</td>\n",
       "      <td>0.0</td>\n",
       "      <td>0.000000</td>\n",
       "      <td>0.025552</td>\n",
       "      <td>0.0</td>\n",
       "      <td>0.0</td>\n",
       "      <td>0.000000</td>\n",
       "      <td>0.0</td>\n",
       "      <td>0.027633</td>\n",
       "      <td>0.041422</td>\n",
       "    </tr>\n",
       "    <tr>\n",
       "      <th>4</th>\n",
       "      <td>0.0</td>\n",
       "      <td>0.0</td>\n",
       "      <td>0.00000</td>\n",
       "      <td>0.0</td>\n",
       "      <td>0.0</td>\n",
       "      <td>0.0</td>\n",
       "      <td>0.0</td>\n",
       "      <td>0.0</td>\n",
       "      <td>0.0</td>\n",
       "      <td>0.0</td>\n",
       "      <td>...</td>\n",
       "      <td>0.000000</td>\n",
       "      <td>0.0</td>\n",
       "      <td>0.107807</td>\n",
       "      <td>0.000000</td>\n",
       "      <td>0.0</td>\n",
       "      <td>0.0</td>\n",
       "      <td>0.000000</td>\n",
       "      <td>0.0</td>\n",
       "      <td>0.044429</td>\n",
       "      <td>0.000000</td>\n",
       "    </tr>\n",
       "  </tbody>\n",
       "</table>\n",
       "<p>5 rows × 1000 columns</p>\n",
       "</div>"
      ],
      "text/plain": [
       "    00  00 per      000  000 00   10  10 years  100   12  2018  2018 robert  \\\n",
       "0  0.0     0.0  0.00000     0.0  0.0       0.0  0.0  0.0   0.0          0.0   \n",
       "1  0.0     0.0  0.00000     0.0  0.0       0.0  0.0  0.0   0.0          0.0   \n",
       "2  0.0     0.0  0.06285     0.0  0.0       0.0  0.0  0.0   0.0          0.0   \n",
       "3  0.0     0.0  0.00000     0.0  0.0       0.0  0.0  0.0   0.0          0.0   \n",
       "4  0.0     0.0  0.00000     0.0  0.0       0.0  0.0  0.0   0.0          0.0   \n",
       "\n",
       "         ...            would  write   writing   written  \\\n",
       "0        ...         0.000000    0.0  0.000000  0.000000   \n",
       "1        ...         0.028374    0.0  0.000000  0.000000   \n",
       "2        ...         0.000000    0.0  0.000000  0.000000   \n",
       "3        ...         0.000000    0.0  0.000000  0.025552   \n",
       "4        ...         0.000000    0.0  0.107807  0.000000   \n",
       "\n",
       "   written communication  written verbal       www  year     years  \\\n",
       "0                    0.0             0.0  0.000000   0.0  0.026443   \n",
       "1                    0.0             0.0  0.032752   0.0  0.000000   \n",
       "2                    0.0             0.0  0.000000   0.0  0.030156   \n",
       "3                    0.0             0.0  0.000000   0.0  0.027633   \n",
       "4                    0.0             0.0  0.000000   0.0  0.044429   \n",
       "\n",
       "   years experience  \n",
       "0          0.000000  \n",
       "1          0.000000  \n",
       "2          0.000000  \n",
       "3          0.041422  \n",
       "4          0.000000  \n",
       "\n",
       "[5 rows x 1000 columns]"
      ]
     },
     "execution_count": 94,
     "metadata": {},
     "output_type": "execute_result"
    }
   ],
   "source": [
    "text.head()"
   ]
  },
  {
   "cell_type": "code",
   "execution_count": 95,
   "metadata": {},
   "outputs": [],
   "source": [
    "# Selecting other features of interest from our dataframe as part of the model\n",
    "other_features = jobs_q2[['location','industry','salary_range']]"
   ]
  },
  {
   "cell_type": "code",
   "execution_count": 96,
   "metadata": {},
   "outputs": [],
   "source": [
    "# creating dummies for location, industry and salary_range\n",
    "other_features = pd.get_dummies(other_features, columns=['location','industry','salary_range'])"
   ]
  },
  {
   "cell_type": "code",
   "execution_count": 97,
   "metadata": {},
   "outputs": [
    {
     "data": {
      "text/html": [
       "<div>\n",
       "<style scoped>\n",
       "    .dataframe tbody tr th:only-of-type {\n",
       "        vertical-align: middle;\n",
       "    }\n",
       "\n",
       "    .dataframe tbody tr th {\n",
       "        vertical-align: top;\n",
       "    }\n",
       "\n",
       "    .dataframe thead th {\n",
       "        text-align: right;\n",
       "    }\n",
       "</style>\n",
       "<table border=\"1\" class=\"dataframe\">\n",
       "  <thead>\n",
       "    <tr style=\"text-align: right;\">\n",
       "      <th></th>\n",
       "      <th>location_AL</th>\n",
       "      <th>location_AZ</th>\n",
       "      <th>location_CA</th>\n",
       "      <th>location_CO</th>\n",
       "      <th>location_CT</th>\n",
       "      <th>location_DC</th>\n",
       "      <th>location_FL</th>\n",
       "      <th>location_GA</th>\n",
       "      <th>location_IA</th>\n",
       "      <th>location_IL</th>\n",
       "      <th>...</th>\n",
       "      <th>industry_Telecommunications</th>\n",
       "      <th>industry_Transport &amp; Aviation</th>\n",
       "      <th>salary_range_&lt;50k</th>\n",
       "      <th>salary_range_50k-70k</th>\n",
       "      <th>salary_range_70k-90k</th>\n",
       "      <th>salary_range_90k-110k</th>\n",
       "      <th>salary_range_110k-130k</th>\n",
       "      <th>salary_range_130k-150k</th>\n",
       "      <th>salary_range_150k-170k</th>\n",
       "      <th>salary_range_&gt;170k</th>\n",
       "    </tr>\n",
       "  </thead>\n",
       "  <tbody>\n",
       "    <tr>\n",
       "      <th>0</th>\n",
       "      <td>0</td>\n",
       "      <td>0</td>\n",
       "      <td>0</td>\n",
       "      <td>0</td>\n",
       "      <td>0</td>\n",
       "      <td>0</td>\n",
       "      <td>0</td>\n",
       "      <td>0</td>\n",
       "      <td>0</td>\n",
       "      <td>0</td>\n",
       "      <td>...</td>\n",
       "      <td>0</td>\n",
       "      <td>0</td>\n",
       "      <td>0</td>\n",
       "      <td>0</td>\n",
       "      <td>0</td>\n",
       "      <td>0</td>\n",
       "      <td>0</td>\n",
       "      <td>1</td>\n",
       "      <td>0</td>\n",
       "      <td>0</td>\n",
       "    </tr>\n",
       "    <tr>\n",
       "      <th>1</th>\n",
       "      <td>0</td>\n",
       "      <td>0</td>\n",
       "      <td>0</td>\n",
       "      <td>0</td>\n",
       "      <td>0</td>\n",
       "      <td>0</td>\n",
       "      <td>0</td>\n",
       "      <td>0</td>\n",
       "      <td>0</td>\n",
       "      <td>0</td>\n",
       "      <td>...</td>\n",
       "      <td>0</td>\n",
       "      <td>0</td>\n",
       "      <td>0</td>\n",
       "      <td>0</td>\n",
       "      <td>0</td>\n",
       "      <td>0</td>\n",
       "      <td>0</td>\n",
       "      <td>0</td>\n",
       "      <td>0</td>\n",
       "      <td>1</td>\n",
       "    </tr>\n",
       "    <tr>\n",
       "      <th>2</th>\n",
       "      <td>0</td>\n",
       "      <td>0</td>\n",
       "      <td>0</td>\n",
       "      <td>0</td>\n",
       "      <td>0</td>\n",
       "      <td>0</td>\n",
       "      <td>0</td>\n",
       "      <td>0</td>\n",
       "      <td>0</td>\n",
       "      <td>0</td>\n",
       "      <td>...</td>\n",
       "      <td>0</td>\n",
       "      <td>0</td>\n",
       "      <td>0</td>\n",
       "      <td>0</td>\n",
       "      <td>0</td>\n",
       "      <td>0</td>\n",
       "      <td>1</td>\n",
       "      <td>0</td>\n",
       "      <td>0</td>\n",
       "      <td>0</td>\n",
       "    </tr>\n",
       "    <tr>\n",
       "      <th>3</th>\n",
       "      <td>0</td>\n",
       "      <td>0</td>\n",
       "      <td>0</td>\n",
       "      <td>0</td>\n",
       "      <td>0</td>\n",
       "      <td>0</td>\n",
       "      <td>1</td>\n",
       "      <td>0</td>\n",
       "      <td>0</td>\n",
       "      <td>0</td>\n",
       "      <td>...</td>\n",
       "      <td>0</td>\n",
       "      <td>0</td>\n",
       "      <td>0</td>\n",
       "      <td>0</td>\n",
       "      <td>0</td>\n",
       "      <td>1</td>\n",
       "      <td>0</td>\n",
       "      <td>0</td>\n",
       "      <td>0</td>\n",
       "      <td>0</td>\n",
       "    </tr>\n",
       "    <tr>\n",
       "      <th>4</th>\n",
       "      <td>0</td>\n",
       "      <td>0</td>\n",
       "      <td>1</td>\n",
       "      <td>0</td>\n",
       "      <td>0</td>\n",
       "      <td>0</td>\n",
       "      <td>0</td>\n",
       "      <td>0</td>\n",
       "      <td>0</td>\n",
       "      <td>0</td>\n",
       "      <td>...</td>\n",
       "      <td>0</td>\n",
       "      <td>0</td>\n",
       "      <td>0</td>\n",
       "      <td>0</td>\n",
       "      <td>0</td>\n",
       "      <td>0</td>\n",
       "      <td>0</td>\n",
       "      <td>0</td>\n",
       "      <td>1</td>\n",
       "      <td>0</td>\n",
       "    </tr>\n",
       "  </tbody>\n",
       "</table>\n",
       "<p>5 rows × 55 columns</p>\n",
       "</div>"
      ],
      "text/plain": [
       "   location_AL  location_AZ  location_CA  location_CO  location_CT  \\\n",
       "0            0            0            0            0            0   \n",
       "1            0            0            0            0            0   \n",
       "2            0            0            0            0            0   \n",
       "3            0            0            0            0            0   \n",
       "4            0            0            1            0            0   \n",
       "\n",
       "   location_DC  location_FL  location_GA  location_IA  location_IL  \\\n",
       "0            0            0            0            0            0   \n",
       "1            0            0            0            0            0   \n",
       "2            0            0            0            0            0   \n",
       "3            0            1            0            0            0   \n",
       "4            0            0            0            0            0   \n",
       "\n",
       "          ...          industry_Telecommunications  \\\n",
       "0         ...                                    0   \n",
       "1         ...                                    0   \n",
       "2         ...                                    0   \n",
       "3         ...                                    0   \n",
       "4         ...                                    0   \n",
       "\n",
       "   industry_Transport & Aviation  salary_range_<50k  salary_range_50k-70k  \\\n",
       "0                              0                  0                     0   \n",
       "1                              0                  0                     0   \n",
       "2                              0                  0                     0   \n",
       "3                              0                  0                     0   \n",
       "4                              0                  0                     0   \n",
       "\n",
       "   salary_range_70k-90k  salary_range_90k-110k  salary_range_110k-130k  \\\n",
       "0                     0                      0                       0   \n",
       "1                     0                      0                       0   \n",
       "2                     0                      0                       1   \n",
       "3                     0                      1                       0   \n",
       "4                     0                      0                       0   \n",
       "\n",
       "   salary_range_130k-150k  salary_range_150k-170k  salary_range_>170k  \n",
       "0                       1                       0                   0  \n",
       "1                       0                       0                   1  \n",
       "2                       0                       0                   0  \n",
       "3                       0                       0                   0  \n",
       "4                       0                       1                   0  \n",
       "\n",
       "[5 rows x 55 columns]"
      ]
     },
     "execution_count": 97,
     "metadata": {},
     "output_type": "execute_result"
    }
   ],
   "source": [
    "other_features.head()"
   ]
  },
  {
   "cell_type": "code",
   "execution_count": 98,
   "metadata": {},
   "outputs": [],
   "source": [
    "# Creating X and y datasets\n",
    "X = pd.concat([text, other_features], axis=1)\n",
    "y = jobs_q2.is_DS"
   ]
  },
  {
   "cell_type": "code",
   "execution_count": 99,
   "metadata": {},
   "outputs": [],
   "source": [
    "# Creating train and test datasets\n",
    "X_train2, X_test2, y_train2, y_test2 = train_test_split(X, y, test_size=0.2, random_state=42)"
   ]
  },
  {
   "cell_type": "markdown",
   "metadata": {},
   "source": [
    "#### Running logistic regression"
   ]
  },
  {
   "cell_type": "code",
   "execution_count": 100,
   "metadata": {},
   "outputs": [
    {
     "data": {
      "text/plain": [
       "0    1006\n",
       "1      59\n",
       "Name: is_DS, dtype: int64"
      ]
     },
     "execution_count": 100,
     "metadata": {},
     "output_type": "execute_result"
    }
   ],
   "source": [
    "jobs_q2.is_DS.value_counts()"
   ]
  },
  {
   "cell_type": "code",
   "execution_count": 101,
   "metadata": {},
   "outputs": [],
   "source": [
    "# As target is imbalanced, we use a balanced weight logistic regression to improve performance of the model\n",
    "logreg = LogisticRegression(class_weight='balanced')\n",
    "\n",
    "gs_params = {'penalty':['l1','l2'],\n",
    "             'solver':['liblinear'],\n",
    "             'C': np.linspace(0.0001, 10, 100)}\n",
    "\n",
    "lr2_gridsearch = GridSearchCV(logreg, gs_params, cv=10, verbose=1, n_jobs=-1, scoring='roc_auc')"
   ]
  },
  {
   "cell_type": "code",
   "execution_count": 102,
   "metadata": {},
   "outputs": [
    {
     "name": "stdout",
     "output_type": "stream",
     "text": [
      "Fitting 10 folds for each of 200 candidates, totalling 2000 fits\n"
     ]
    },
    {
     "name": "stderr",
     "output_type": "stream",
     "text": [
      "[Parallel(n_jobs=-1)]: Done  34 tasks      | elapsed:   10.2s\n",
      "[Parallel(n_jobs=-1)]: Done 184 tasks      | elapsed:   14.8s\n",
      "[Parallel(n_jobs=-1)]: Done 434 tasks      | elapsed:   22.5s\n",
      "[Parallel(n_jobs=-1)]: Done 784 tasks      | elapsed:   33.5s\n",
      "[Parallel(n_jobs=-1)]: Done 1234 tasks      | elapsed:   47.2s\n",
      "[Parallel(n_jobs=-1)]: Done 1784 tasks      | elapsed:  1.1min\n",
      "[Parallel(n_jobs=-1)]: Done 2000 out of 2000 | elapsed:  1.2min finished\n"
     ]
    },
    {
     "data": {
      "text/plain": [
       "GridSearchCV(cv=10, error_score='raise',\n",
       "       estimator=LogisticRegression(C=1.0, class_weight='balanced', dual=False,\n",
       "          fit_intercept=True, intercept_scaling=1, max_iter=100,\n",
       "          multi_class='ovr', n_jobs=1, penalty='l2', random_state=None,\n",
       "          solver='liblinear', tol=0.0001, verbose=0, warm_start=False),\n",
       "       fit_params=None, iid=True, n_jobs=-1,\n",
       "       param_grid={'penalty': ['l1', 'l2'], 'C': array([1.00000e-04, 1.01109e-01, ..., 9.89899e+00, 1.00000e+01]), 'solver': ['liblinear']},\n",
       "       pre_dispatch='2*n_jobs', refit=True, return_train_score='warn',\n",
       "       scoring='roc_auc', verbose=1)"
      ]
     },
     "execution_count": 102,
     "metadata": {},
     "output_type": "execute_result"
    }
   ],
   "source": [
    "lr2_gridsearch.fit(X_train2, y_train2)"
   ]
  },
  {
   "cell_type": "code",
   "execution_count": 103,
   "metadata": {},
   "outputs": [],
   "source": [
    "lr2_model = lr2_gridsearch.best_estimator_\n",
    "yhat = lr2_model.predict(X_test2)"
   ]
  },
  {
   "cell_type": "code",
   "execution_count": 104,
   "metadata": {},
   "outputs": [
    {
     "data": {
      "text/plain": [
       "0.9342723004694836"
      ]
     },
     "execution_count": 104,
     "metadata": {},
     "output_type": "execute_result"
    }
   ],
   "source": [
    "lr2_model.score(X_test2, y_test2)"
   ]
  },
  {
   "cell_type": "code",
   "execution_count": 105,
   "metadata": {},
   "outputs": [
    {
     "name": "stdout",
     "output_type": "stream",
     "text": [
      "             precision    recall  f1-score   support\n",
      "\n",
      "          0       0.97      0.95      0.96       200\n",
      "          1       0.47      0.62      0.53        13\n",
      "\n",
      "avg / total       0.94      0.93      0.94       213\n",
      "\n"
     ]
    }
   ],
   "source": [
    "print classification_report(y_test2, yhat)"
   ]
  },
  {
   "cell_type": "code",
   "execution_count": 106,
   "metadata": {},
   "outputs": [
    {
     "data": {
      "text/html": [
       "<div>\n",
       "<style scoped>\n",
       "    .dataframe tbody tr th:only-of-type {\n",
       "        vertical-align: middle;\n",
       "    }\n",
       "\n",
       "    .dataframe tbody tr th {\n",
       "        vertical-align: top;\n",
       "    }\n",
       "\n",
       "    .dataframe thead th {\n",
       "        text-align: right;\n",
       "    }\n",
       "</style>\n",
       "<table border=\"1\" class=\"dataframe\">\n",
       "  <thead>\n",
       "    <tr style=\"text-align: right;\">\n",
       "      <th></th>\n",
       "      <th>coef</th>\n",
       "      <th>feature</th>\n",
       "      <th>abs_coef</th>\n",
       "    </tr>\n",
       "  </thead>\n",
       "  <tbody>\n",
       "    <tr>\n",
       "      <th>234</th>\n",
       "      <td>20.411973</td>\n",
       "      <td>data scientist</td>\n",
       "      <td>20.411973</td>\n",
       "    </tr>\n",
       "    <tr>\n",
       "      <th>462</th>\n",
       "      <td>13.075438</td>\n",
       "      <td>information technology</td>\n",
       "      <td>13.075438</td>\n",
       "    </tr>\n",
       "    <tr>\n",
       "      <th>58</th>\n",
       "      <td>12.935871</td>\n",
       "      <td>analytics</td>\n",
       "      <td>12.935871</td>\n",
       "    </tr>\n",
       "    <tr>\n",
       "      <th>132</th>\n",
       "      <td>-12.719355</td>\n",
       "      <td>business</td>\n",
       "      <td>12.719355</td>\n",
       "    </tr>\n",
       "    <tr>\n",
       "      <th>930</th>\n",
       "      <td>11.754501</td>\n",
       "      <td>troubleshooting</td>\n",
       "      <td>11.754501</td>\n",
       "    </tr>\n",
       "    <tr>\n",
       "      <th>920</th>\n",
       "      <td>10.486687</td>\n",
       "      <td>today</td>\n",
       "      <td>10.486687</td>\n",
       "    </tr>\n",
       "    <tr>\n",
       "      <th>944</th>\n",
       "      <td>10.145337</td>\n",
       "      <td>use</td>\n",
       "      <td>10.145337</td>\n",
       "    </tr>\n",
       "    <tr>\n",
       "      <th>571</th>\n",
       "      <td>8.860597</td>\n",
       "      <td>month</td>\n",
       "      <td>8.860597</td>\n",
       "    </tr>\n",
       "    <tr>\n",
       "      <th>310</th>\n",
       "      <td>7.531904</td>\n",
       "      <td>engineer</td>\n",
       "      <td>7.531904</td>\n",
       "    </tr>\n",
       "    <tr>\n",
       "      <th>751</th>\n",
       "      <td>7.056295</td>\n",
       "      <td>reliability</td>\n",
       "      <td>7.056295</td>\n",
       "    </tr>\n",
       "  </tbody>\n",
       "</table>\n",
       "</div>"
      ],
      "text/plain": [
       "          coef                 feature   abs_coef\n",
       "234  20.411973          data scientist  20.411973\n",
       "462  13.075438  information technology  13.075438\n",
       "58   12.935871               analytics  12.935871\n",
       "132 -12.719355                business  12.719355\n",
       "930  11.754501         troubleshooting  11.754501\n",
       "920  10.486687                   today  10.486687\n",
       "944  10.145337                     use  10.145337\n",
       "571   8.860597                   month   8.860597\n",
       "310   7.531904                engineer   7.531904\n",
       "751   7.056295             reliability   7.056295"
      ]
     },
     "execution_count": 106,
     "metadata": {},
     "output_type": "execute_result"
    }
   ],
   "source": [
    "coef_df = pd.DataFrame({\n",
    "        'coef': lr2_model.coef_[0],\n",
    "        'feature':X.columns})\n",
    "\n",
    "coef_df['abs_coef'] = np.abs(coef_df.coef)\n",
    "\n",
    "# sort by absolute value of coefficient (magnitude)\n",
    "coef_df.sort_values('abs_coef', ascending=False, inplace=True)\n",
    "\n",
    "# Show non-zero coefs and predictors\n",
    "coef_df[coef_df.coef != 0].head(10)"
   ]
  },
  {
   "cell_type": "markdown",
   "metadata": {},
   "source": [
    "Even though model score is very high at 93%, upon investigation it is noticed this is primarily due to correct classification of non-DS classes. We also noticed that the best feature of the model is 'data scientist', which is a given as this is exactly what we are predicting. To improve the robustness of the model, such words should be included as a stop word.\n",
    "\n",
    "Although we have attempted to address the issue of imbalanced classes with a balanced weight log regression, there is still room to improve the model. \n",
    "\n",
    "One way to do this will be through over and under sampling methods via the imblearn package. However, in the interest of time, this will not be implemented for this exercise."
   ]
  },
  {
   "cell_type": "markdown",
   "metadata": {},
   "source": [
    "### Random Forest Classifier"
   ]
  },
  {
   "cell_type": "code",
   "execution_count": 108,
   "metadata": {},
   "outputs": [],
   "source": [
    "forest = RandomForestClassifier(class_weight='balanced')\n",
    "\n",
    "gs_params = {'n_estimators': [500, 1000],\n",
    "             'max_features':['log2','sqrt'],\n",
    "             'max_depth': [5, 10, 20]}\n",
    "\n",
    "RF_gridsearch2 = GridSearchCV(forest, gs_params, cv=10, verbose=1, n_jobs=-1, scoring='roc_auc')"
   ]
  },
  {
   "cell_type": "code",
   "execution_count": 109,
   "metadata": {},
   "outputs": [
    {
     "name": "stdout",
     "output_type": "stream",
     "text": [
      "Fitting 10 folds for each of 12 candidates, totalling 120 fits\n"
     ]
    },
    {
     "name": "stderr",
     "output_type": "stream",
     "text": [
      "[Parallel(n_jobs=-1)]: Done  34 tasks      | elapsed:   38.7s\n",
      "[Parallel(n_jobs=-1)]: Done 120 out of 120 | elapsed:  2.4min finished\n"
     ]
    },
    {
     "data": {
      "text/plain": [
       "GridSearchCV(cv=10, error_score='raise',\n",
       "       estimator=RandomForestClassifier(bootstrap=True, class_weight='balanced',\n",
       "            criterion='gini', max_depth=None, max_features='auto',\n",
       "            max_leaf_nodes=None, min_impurity_decrease=0.0,\n",
       "            min_impurity_split=None, min_samples_leaf=1,\n",
       "            min_samples_split=2, min_weight_fraction_leaf=0.0,\n",
       "            n_estimators=10, n_jobs=1, oob_score=False, random_state=None,\n",
       "            verbose=0, warm_start=False),\n",
       "       fit_params=None, iid=True, n_jobs=-1,\n",
       "       param_grid={'n_estimators': [500, 1000], 'max_features': ['log2', 'sqrt'], 'max_depth': [5, 10, 20]},\n",
       "       pre_dispatch='2*n_jobs', refit=True, return_train_score='warn',\n",
       "       scoring='roc_auc', verbose=1)"
      ]
     },
     "execution_count": 109,
     "metadata": {},
     "output_type": "execute_result"
    }
   ],
   "source": [
    "RF_gridsearch2.fit(X_train2, y_train2)"
   ]
  },
  {
   "cell_type": "code",
   "execution_count": 110,
   "metadata": {},
   "outputs": [
    {
     "data": {
      "text/plain": [
       "{'max_depth': 5, 'max_features': 'sqrt', 'n_estimators': 500}"
      ]
     },
     "execution_count": 110,
     "metadata": {},
     "output_type": "execute_result"
    }
   ],
   "source": [
    "RF_model2 = RF_gridsearch2.best_estimator_\n",
    "\n",
    "RF_gridsearch2.best_params_"
   ]
  },
  {
   "cell_type": "code",
   "execution_count": 111,
   "metadata": {},
   "outputs": [
    {
     "data": {
      "text/plain": [
       "0.9436619718309859"
      ]
     },
     "execution_count": 111,
     "metadata": {},
     "output_type": "execute_result"
    }
   ],
   "source": [
    "RF_model2.score(X_test2, y_test2)"
   ]
  },
  {
   "cell_type": "code",
   "execution_count": 112,
   "metadata": {},
   "outputs": [
    {
     "data": {
      "text/html": [
       "<div>\n",
       "<style scoped>\n",
       "    .dataframe tbody tr th:only-of-type {\n",
       "        vertical-align: middle;\n",
       "    }\n",
       "\n",
       "    .dataframe tbody tr th {\n",
       "        vertical-align: top;\n",
       "    }\n",
       "\n",
       "    .dataframe thead th {\n",
       "        text-align: right;\n",
       "    }\n",
       "</style>\n",
       "<table border=\"1\" class=\"dataframe\">\n",
       "  <thead>\n",
       "    <tr style=\"text-align: right;\">\n",
       "      <th></th>\n",
       "      <th>importance</th>\n",
       "    </tr>\n",
       "  </thead>\n",
       "  <tbody>\n",
       "    <tr>\n",
       "      <th>data scientist</th>\n",
       "      <td>0.031900</td>\n",
       "    </tr>\n",
       "    <tr>\n",
       "      <th>learning</th>\n",
       "      <td>0.031133</td>\n",
       "    </tr>\n",
       "    <tr>\n",
       "      <th>business</th>\n",
       "      <td>0.029030</td>\n",
       "    </tr>\n",
       "    <tr>\n",
       "      <th>scientist</th>\n",
       "      <td>0.024095</td>\n",
       "    </tr>\n",
       "    <tr>\n",
       "      <th>python</th>\n",
       "      <td>0.021359</td>\n",
       "    </tr>\n",
       "    <tr>\n",
       "      <th>machine</th>\n",
       "      <td>0.021312</td>\n",
       "    </tr>\n",
       "    <tr>\n",
       "      <th>machine learning</th>\n",
       "      <td>0.020643</td>\n",
       "    </tr>\n",
       "    <tr>\n",
       "      <th>engineering</th>\n",
       "      <td>0.017449</td>\n",
       "    </tr>\n",
       "    <tr>\n",
       "      <th>development</th>\n",
       "      <td>0.014928</td>\n",
       "    </tr>\n",
       "    <tr>\n",
       "      <th>engineer</th>\n",
       "      <td>0.013238</td>\n",
       "    </tr>\n",
       "  </tbody>\n",
       "</table>\n",
       "</div>"
      ],
      "text/plain": [
       "                  importance\n",
       "data scientist      0.031900\n",
       "learning            0.031133\n",
       "business            0.029030\n",
       "scientist           0.024095\n",
       "python              0.021359\n",
       "machine             0.021312\n",
       "machine learning    0.020643\n",
       "engineering         0.017449\n",
       "development         0.014928\n",
       "engineer            0.013238"
      ]
     },
     "execution_count": 112,
     "metadata": {},
     "output_type": "execute_result"
    }
   ],
   "source": [
    "pd.DataFrame(RF_model2.feature_importances_, index = X_train2.columns, \n",
    "             columns=['importance']).sort_values('importance', ascending=False).head(10)"
   ]
  },
  {
   "cell_type": "code",
   "execution_count": 113,
   "metadata": {},
   "outputs": [
    {
     "name": "stdout",
     "output_type": "stream",
     "text": [
      "             precision    recall  f1-score   support\n",
      "\n",
      "          0       0.95      0.99      0.97       200\n",
      "          1       0.67      0.15      0.25        13\n",
      "\n",
      "avg / total       0.93      0.94      0.93       213\n",
      "\n"
     ]
    }
   ],
   "source": [
    "yhat = RF_model2.predict(X_test2)\n",
    "print classification_report(y_test2, yhat)"
   ]
  },
  {
   "cell_type": "markdown",
   "metadata": {},
   "source": [
    "Likewise to the logistic regression earlier, though model score is very high at 93%, upon investigation it is also noticed this is primarily due to correct classification of non-DS classes. We also see 'data scientist' as one of the important features, which should be included as a stop word when vectorising the data.\n",
    "\n",
    "We too have attempted to address the issue of imbalanced classes with a balanced weight RF, however this does not seem to improve the model much.\n",
    "\n",
    "One way to do this will be through over and under sampling methods via the imblearn package. However, in the interest of time, this will not be implemented for this exercise."
   ]
  },
  {
   "cell_type": "markdown",
   "metadata": {},
   "source": [
    "## Question 3"
   ]
  },
  {
   "cell_type": "code",
   "execution_count": 114,
   "metadata": {},
   "outputs": [
    {
     "data": {
      "text/html": [
       "<div>\n",
       "<style scoped>\n",
       "    .dataframe tbody tr th:only-of-type {\n",
       "        vertical-align: middle;\n",
       "    }\n",
       "\n",
       "    .dataframe tbody tr th {\n",
       "        vertical-align: top;\n",
       "    }\n",
       "\n",
       "    .dataframe thead th {\n",
       "        text-align: right;\n",
       "    }\n",
       "</style>\n",
       "<table border=\"1\" class=\"dataframe\">\n",
       "  <thead>\n",
       "    <tr style=\"text-align: right;\">\n",
       "      <th></th>\n",
       "      <th>salary</th>\n",
       "    </tr>\n",
       "  </thead>\n",
       "  <tbody>\n",
       "    <tr>\n",
       "      <th>count</th>\n",
       "      <td>988.000000</td>\n",
       "    </tr>\n",
       "    <tr>\n",
       "      <th>mean</th>\n",
       "      <td>103243.045906</td>\n",
       "    </tr>\n",
       "    <tr>\n",
       "      <th>std</th>\n",
       "      <td>45538.984743</td>\n",
       "    </tr>\n",
       "    <tr>\n",
       "      <th>min</th>\n",
       "      <td>500.000000</td>\n",
       "    </tr>\n",
       "    <tr>\n",
       "      <th>25%</th>\n",
       "      <td>75000.000000</td>\n",
       "    </tr>\n",
       "    <tr>\n",
       "      <th>50%</th>\n",
       "      <td>100000.000000</td>\n",
       "    </tr>\n",
       "    <tr>\n",
       "      <th>75%</th>\n",
       "      <td>127533.375000</td>\n",
       "    </tr>\n",
       "    <tr>\n",
       "      <th>max</th>\n",
       "      <td>382053.375000</td>\n",
       "    </tr>\n",
       "  </tbody>\n",
       "</table>\n",
       "</div>"
      ],
      "text/plain": [
       "              salary\n",
       "count     988.000000\n",
       "mean   103243.045906\n",
       "std     45538.984743\n",
       "min       500.000000\n",
       "25%     75000.000000\n",
       "50%    100000.000000\n",
       "75%    127533.375000\n",
       "max    382053.375000"
      ]
     },
     "execution_count": 114,
     "metadata": {},
     "output_type": "execute_result"
    }
   ],
   "source": [
    "jobs_with_salary.describe()"
   ]
  },
  {
   "cell_type": "code",
   "execution_count": 115,
   "metadata": {},
   "outputs": [],
   "source": [
    "# Assume salary below 25 percentile as low\n",
    "\n",
    "jobs_with_salary['low_salary'] = [1 if i <75000 else 0 for i in jobs_with_salary.salary]"
   ]
  },
  {
   "cell_type": "code",
   "execution_count": 116,
   "metadata": {},
   "outputs": [
    {
     "data": {
      "text/html": [
       "<div>\n",
       "<style scoped>\n",
       "    .dataframe tbody tr th:only-of-type {\n",
       "        vertical-align: middle;\n",
       "    }\n",
       "\n",
       "    .dataframe tbody tr th {\n",
       "        vertical-align: top;\n",
       "    }\n",
       "\n",
       "    .dataframe thead th {\n",
       "        text-align: right;\n",
       "    }\n",
       "</style>\n",
       "<table border=\"1\" class=\"dataframe\">\n",
       "  <thead>\n",
       "    <tr style=\"text-align: right;\">\n",
       "      <th></th>\n",
       "      <th>company</th>\n",
       "      <th>details</th>\n",
       "      <th>industry</th>\n",
       "      <th>location</th>\n",
       "      <th>salary</th>\n",
       "      <th>title</th>\n",
       "      <th>salary_range</th>\n",
       "      <th>data</th>\n",
       "      <th>low_salary</th>\n",
       "    </tr>\n",
       "  </thead>\n",
       "  <tbody>\n",
       "    <tr>\n",
       "      <th>2</th>\n",
       "      <td>Austin Fraser</td>\n",
       "      <td>Austin Fraser is working alongside a fantasti...</td>\n",
       "      <td>Computer Software</td>\n",
       "      <td>TX</td>\n",
       "      <td>132500.0</td>\n",
       "      <td>Data Scientist</td>\n",
       "      <td>130k-150k</td>\n",
       "      <td>Austin Fraser is working alongside a fantasti...</td>\n",
       "      <td>0</td>\n",
       "    </tr>\n",
       "    <tr>\n",
       "      <th>3</th>\n",
       "      <td>FRG Technology Consulting</td>\n",
       "      <td>Data Scientist - Waltham, MA - $190K My clien...</td>\n",
       "      <td>Computer Software</td>\n",
       "      <td>MA</td>\n",
       "      <td>195000.0</td>\n",
       "      <td>Data Scientist</td>\n",
       "      <td>&gt;170k</td>\n",
       "      <td>Data Scientist - Waltham, MA - $190K My clien...</td>\n",
       "      <td>0</td>\n",
       "    </tr>\n",
       "    <tr>\n",
       "      <th>4</th>\n",
       "      <td>Roc Search Inc</td>\n",
       "      <td>Data Scientist - Education - $130,000With mil...</td>\n",
       "      <td>Computer Software</td>\n",
       "      <td>TX</td>\n",
       "      <td>115000.0</td>\n",
       "      <td>Data Scientist</td>\n",
       "      <td>110k-130k</td>\n",
       "      <td>Data Scientist - Education - $130,000With mil...</td>\n",
       "      <td>0</td>\n",
       "    </tr>\n",
       "    <tr>\n",
       "      <th>5</th>\n",
       "      <td>Synergy Business Consulting, Inc.</td>\n",
       "      <td>Data Scientist Position Summary:    Seeking a...</td>\n",
       "      <td>Services</td>\n",
       "      <td>FL</td>\n",
       "      <td>100000.0</td>\n",
       "      <td>Data Scientist</td>\n",
       "      <td>90k-110k</td>\n",
       "      <td>Data Scientist Position Summary:    Seeking a...</td>\n",
       "      <td>0</td>\n",
       "    </tr>\n",
       "    <tr>\n",
       "      <th>6</th>\n",
       "      <td>Catapult Staffing</td>\n",
       "      <td>We are looking to bring on a Senior-level  Da...</td>\n",
       "      <td>Energy</td>\n",
       "      <td>CA</td>\n",
       "      <td>152482.5</td>\n",
       "      <td>Data Scientist</td>\n",
       "      <td>150k-170k</td>\n",
       "      <td>We are looking to bring on a Senior-level  Da...</td>\n",
       "      <td>0</td>\n",
       "    </tr>\n",
       "  </tbody>\n",
       "</table>\n",
       "</div>"
      ],
      "text/plain": [
       "                             company  \\\n",
       "2                      Austin Fraser   \n",
       "3          FRG Technology Consulting   \n",
       "4                     Roc Search Inc   \n",
       "5  Synergy Business Consulting, Inc.   \n",
       "6                  Catapult Staffing   \n",
       "\n",
       "                                             details           industry  \\\n",
       "2   Austin Fraser is working alongside a fantasti...  Computer Software   \n",
       "3   Data Scientist - Waltham, MA - $190K My clien...  Computer Software   \n",
       "4   Data Scientist - Education - $130,000With mil...  Computer Software   \n",
       "5   Data Scientist Position Summary:    Seeking a...           Services   \n",
       "6   We are looking to bring on a Senior-level  Da...             Energy   \n",
       "\n",
       "  location    salary           title salary_range  \\\n",
       "2       TX  132500.0  Data Scientist    130k-150k   \n",
       "3       MA  195000.0  Data Scientist        >170k   \n",
       "4       TX  115000.0  Data Scientist    110k-130k   \n",
       "5       FL  100000.0  Data Scientist     90k-110k   \n",
       "6       CA  152482.5  Data Scientist    150k-170k   \n",
       "\n",
       "                                                data  low_salary  \n",
       "2   Austin Fraser is working alongside a fantasti...           0  \n",
       "3   Data Scientist - Waltham, MA - $190K My clien...           0  \n",
       "4   Data Scientist - Education - $130,000With mil...           0  \n",
       "5   Data Scientist Position Summary:    Seeking a...           0  \n",
       "6   We are looking to bring on a Senior-level  Da...           0  "
      ]
     },
     "execution_count": 116,
     "metadata": {},
     "output_type": "execute_result"
    }
   ],
   "source": [
    "jobs_with_salary.head()"
   ]
  },
  {
   "cell_type": "code",
   "execution_count": 117,
   "metadata": {},
   "outputs": [],
   "source": [
    "X_train3, X_test3, y_train3, y_test3 = train_test_split(jobs_with_salary.data, jobs_with_salary.low_salary, test_size=0.2, random_state=42)"
   ]
  },
  {
   "cell_type": "code",
   "execution_count": 118,
   "metadata": {},
   "outputs": [],
   "source": [
    "pipeline = make_pipeline(TfidfVectorizer(stop_words=nltk_stops, ngram_range=(1,2), max_features=1000), \n",
    "                         LogisticRegression(class_weight='balanced'))"
   ]
  },
  {
   "cell_type": "code",
   "execution_count": 155,
   "metadata": {},
   "outputs": [],
   "source": [
    "# Running model with scoring based on recall to minimise false positives\n",
    "gs_params = {'logisticregression__solver':['liblinear'],\n",
    "             'logisticregression__C': np.linspace(0.0001, 10, 100)}\n",
    "\n",
    "lr = GridSearchCV(pipeline, gs_params, cv=10, verbose=1, n_jobs=-1, scoring='recall')"
   ]
  },
  {
   "cell_type": "code",
   "execution_count": 156,
   "metadata": {},
   "outputs": [
    {
     "name": "stdout",
     "output_type": "stream",
     "text": [
      "Fitting 10 folds for each of 100 candidates, totalling 1000 fits\n"
     ]
    },
    {
     "name": "stderr",
     "output_type": "stream",
     "text": [
      "[Parallel(n_jobs=-1)]: Done  34 tasks      | elapsed:   25.9s\n",
      "[Parallel(n_jobs=-1)]: Done 184 tasks      | elapsed:  1.7min\n",
      "[Parallel(n_jobs=-1)]: Done 434 tasks      | elapsed:  3.6min\n",
      "[Parallel(n_jobs=-1)]: Done 784 tasks      | elapsed:  5.5min\n",
      "[Parallel(n_jobs=-1)]: Done 1000 out of 1000 | elapsed:  6.9min finished\n"
     ]
    },
    {
     "data": {
      "text/plain": [
       "GridSearchCV(cv=10, error_score='raise',\n",
       "       estimator=Pipeline(memory=None,\n",
       "     steps=[('tfidfvectorizer', TfidfVectorizer(analyzer=u'word', binary=False, decode_error=u'strict',\n",
       "        dtype=<type 'numpy.int64'>, encoding=u'utf-8', input=u'content',\n",
       "        lowercase=True, max_df=1.0, max_features=1000, min_df=1,\n",
       "        ngram_range=(1, 2), norm=u'l2', preprocessor=None, smoo...ty='l2', random_state=None,\n",
       "          solver='liblinear', tol=0.0001, verbose=0, warm_start=False))]),\n",
       "       fit_params=None, iid=True, n_jobs=-1,\n",
       "       param_grid={'logisticregression__solver': ['liblinear'], 'logisticregression__C': array([1.00000e-04, 1.01109e-01, ..., 9.89899e+00, 1.00000e+01])},\n",
       "       pre_dispatch='2*n_jobs', refit=True, return_train_score='warn',\n",
       "       scoring='recall', verbose=1)"
      ]
     },
     "execution_count": 156,
     "metadata": {},
     "output_type": "execute_result"
    }
   ],
   "source": [
    "lr.fit(X_train3, y_train3)"
   ]
  },
  {
   "cell_type": "code",
   "execution_count": 157,
   "metadata": {},
   "outputs": [
    {
     "data": {
      "text/plain": [
       "{'logisticregression__C': 0.0001, 'logisticregression__solver': 'liblinear'}"
      ]
     },
     "execution_count": 157,
     "metadata": {},
     "output_type": "execute_result"
    }
   ],
   "source": [
    "best = lr.best_estimator_\n",
    "\n",
    "lr.best_params_"
   ]
  },
  {
   "cell_type": "code",
   "execution_count": 158,
   "metadata": {},
   "outputs": [],
   "source": [
    "yhat = best.predict(X_test3)"
   ]
  },
  {
   "cell_type": "code",
   "execution_count": 159,
   "metadata": {},
   "outputs": [
    {
     "name": "stdout",
     "output_type": "stream",
     "text": [
      "             precision    recall  f1-score   support\n",
      "\n",
      "          0       0.87      0.68      0.76       139\n",
      "          1       0.50      0.76      0.60        59\n",
      "\n",
      "avg / total       0.76      0.70      0.71       198\n",
      "\n"
     ]
    }
   ],
   "source": [
    "print classification_report(y_test3, yhat)\n"
   ]
  },
  {
   "cell_type": "code",
   "execution_count": 160,
   "metadata": {},
   "outputs": [
    {
     "data": {
      "text/html": [
       "<div>\n",
       "<style scoped>\n",
       "    .dataframe tbody tr th:only-of-type {\n",
       "        vertical-align: middle;\n",
       "    }\n",
       "\n",
       "    .dataframe tbody tr th {\n",
       "        vertical-align: top;\n",
       "    }\n",
       "\n",
       "    .dataframe thead th {\n",
       "        text-align: right;\n",
       "    }\n",
       "</style>\n",
       "<table border=\"1\" class=\"dataframe\">\n",
       "  <thead>\n",
       "    <tr style=\"text-align: right;\">\n",
       "      <th></th>\n",
       "      <th>predicted_0</th>\n",
       "      <th>predicted_1</th>\n",
       "    </tr>\n",
       "  </thead>\n",
       "  <tbody>\n",
       "    <tr>\n",
       "      <th>is_0</th>\n",
       "      <td>94</td>\n",
       "      <td>45</td>\n",
       "    </tr>\n",
       "    <tr>\n",
       "      <th>is_1</th>\n",
       "      <td>14</td>\n",
       "      <td>45</td>\n",
       "    </tr>\n",
       "  </tbody>\n",
       "</table>\n",
       "</div>"
      ],
      "text/plain": [
       "      predicted_0  predicted_1\n",
       "is_0           94           45\n",
       "is_1           14           45"
      ]
     },
     "execution_count": 160,
     "metadata": {},
     "output_type": "execute_result"
    }
   ],
   "source": [
    "conmat = np.array(confusion_matrix(y_test3, yhat))\n",
    "\n",
    "confusion = pd.DataFrame(conmat, index=['is_0', 'is_1'],\n",
    "                         columns=['predicted_0','predicted_1'])\n",
    "confusion"
   ]
  },
  {
   "cell_type": "code",
   "execution_count": 163,
   "metadata": {},
   "outputs": [
    {
     "data": {
      "text/html": [
       "<div>\n",
       "<style scoped>\n",
       "    .dataframe tbody tr th:only-of-type {\n",
       "        vertical-align: middle;\n",
       "    }\n",
       "\n",
       "    .dataframe tbody tr th {\n",
       "        vertical-align: top;\n",
       "    }\n",
       "\n",
       "    .dataframe thead th {\n",
       "        text-align: right;\n",
       "    }\n",
       "</style>\n",
       "<table border=\"1\" class=\"dataframe\">\n",
       "  <thead>\n",
       "    <tr style=\"text-align: right;\">\n",
       "      <th></th>\n",
       "      <th>class_0_pp</th>\n",
       "      <th>class_1_pp</th>\n",
       "    </tr>\n",
       "  </thead>\n",
       "  <tbody>\n",
       "    <tr>\n",
       "      <th>0</th>\n",
       "      <td>0.499977</td>\n",
       "      <td>0.500023</td>\n",
       "    </tr>\n",
       "    <tr>\n",
       "      <th>1</th>\n",
       "      <td>0.499976</td>\n",
       "      <td>0.500024</td>\n",
       "    </tr>\n",
       "    <tr>\n",
       "      <th>2</th>\n",
       "      <td>0.500091</td>\n",
       "      <td>0.499909</td>\n",
       "    </tr>\n",
       "    <tr>\n",
       "      <th>3</th>\n",
       "      <td>0.500141</td>\n",
       "      <td>0.499859</td>\n",
       "    </tr>\n",
       "    <tr>\n",
       "      <th>4</th>\n",
       "      <td>0.499865</td>\n",
       "      <td>0.500135</td>\n",
       "    </tr>\n",
       "  </tbody>\n",
       "</table>\n",
       "</div>"
      ],
      "text/plain": [
       "   class_0_pp  class_1_pp\n",
       "0    0.499977    0.500023\n",
       "1    0.499976    0.500024\n",
       "2    0.500091    0.499909\n",
       "3    0.500141    0.499859\n",
       "4    0.499865    0.500135"
      ]
     },
     "execution_count": 163,
     "metadata": {},
     "output_type": "execute_result"
    }
   ],
   "source": [
    "# Get the predicted probability vector and explicitly name the columns.\n",
    "Y_pp = pd.DataFrame(best.predict_proba(X_test3), columns=['class_0_pp','class_1_pp'])\n",
    "Y_pp.head()"
   ]
  },
  {
   "cell_type": "code",
   "execution_count": 172,
   "metadata": {},
   "outputs": [
    {
     "data": {
      "text/html": [
       "<div>\n",
       "<style scoped>\n",
       "    .dataframe tbody tr th:only-of-type {\n",
       "        vertical-align: middle;\n",
       "    }\n",
       "\n",
       "    .dataframe tbody tr th {\n",
       "        vertical-align: top;\n",
       "    }\n",
       "\n",
       "    .dataframe thead th {\n",
       "        text-align: right;\n",
       "    }\n",
       "</style>\n",
       "<table border=\"1\" class=\"dataframe\">\n",
       "  <thead>\n",
       "    <tr style=\"text-align: right;\">\n",
       "      <th></th>\n",
       "      <th>class_0_pp</th>\n",
       "      <th>class_1_pp</th>\n",
       "      <th>pred_class</th>\n",
       "    </tr>\n",
       "  </thead>\n",
       "  <tbody>\n",
       "    <tr>\n",
       "      <th>0</th>\n",
       "      <td>0.499977</td>\n",
       "      <td>0.500023</td>\n",
       "      <td>1</td>\n",
       "    </tr>\n",
       "    <tr>\n",
       "      <th>1</th>\n",
       "      <td>0.499976</td>\n",
       "      <td>0.500024</td>\n",
       "      <td>1</td>\n",
       "    </tr>\n",
       "    <tr>\n",
       "      <th>2</th>\n",
       "      <td>0.500091</td>\n",
       "      <td>0.499909</td>\n",
       "      <td>1</td>\n",
       "    </tr>\n",
       "    <tr>\n",
       "      <th>3</th>\n",
       "      <td>0.500141</td>\n",
       "      <td>0.499859</td>\n",
       "      <td>1</td>\n",
       "    </tr>\n",
       "    <tr>\n",
       "      <th>4</th>\n",
       "      <td>0.499865</td>\n",
       "      <td>0.500135</td>\n",
       "      <td>1</td>\n",
       "    </tr>\n",
       "  </tbody>\n",
       "</table>\n",
       "</div>"
      ],
      "text/plain": [
       "   class_0_pp  class_1_pp  pred_class\n",
       "0    0.499977    0.500023           1\n",
       "1    0.499976    0.500024           1\n",
       "2    0.500091    0.499909           1\n",
       "3    0.500141    0.499859           1\n",
       "4    0.499865    0.500135           1"
      ]
     },
     "execution_count": 172,
     "metadata": {},
     "output_type": "execute_result"
    }
   ],
   "source": [
    "# lowering the threshold to predict low salary from 0.5 to 0.4998\n",
    "Y_pp['pred_class'] = [1 if x >= 0.4998 else 0 for x in Y_pp.class_1_pp.values]\n",
    "\n",
    "Y_pp.head()"
   ]
  },
  {
   "cell_type": "code",
   "execution_count": 170,
   "metadata": {},
   "outputs": [
    {
     "data": {
      "text/html": [
       "<div>\n",
       "<style scoped>\n",
       "    .dataframe tbody tr th:only-of-type {\n",
       "        vertical-align: middle;\n",
       "    }\n",
       "\n",
       "    .dataframe tbody tr th {\n",
       "        vertical-align: top;\n",
       "    }\n",
       "\n",
       "    .dataframe thead th {\n",
       "        text-align: right;\n",
       "    }\n",
       "</style>\n",
       "<table border=\"1\" class=\"dataframe\">\n",
       "  <thead>\n",
       "    <tr style=\"text-align: right;\">\n",
       "      <th></th>\n",
       "      <th>predicted_0</th>\n",
       "      <th>predicted_1</th>\n",
       "    </tr>\n",
       "  </thead>\n",
       "  <tbody>\n",
       "    <tr>\n",
       "      <th>is_0</th>\n",
       "      <td>11</td>\n",
       "      <td>128</td>\n",
       "    </tr>\n",
       "    <tr>\n",
       "      <th>is_1</th>\n",
       "      <td>1</td>\n",
       "      <td>58</td>\n",
       "    </tr>\n",
       "  </tbody>\n",
       "</table>\n",
       "</div>"
      ],
      "text/plain": [
       "      predicted_0  predicted_1\n",
       "is_0           11          128\n",
       "is_1            1           58"
      ]
     },
     "execution_count": 170,
     "metadata": {},
     "output_type": "execute_result"
    }
   ],
   "source": [
    "conmat = np.array(confusion_matrix(y_test3, Y_pp.pred_class.values))\n",
    "\n",
    "confusion = pd.DataFrame(conmat, index=['is_0', 'is_1'],\n",
    "                         columns=['predicted_0','predicted_1'])\n",
    "confusion"
   ]
  },
  {
   "cell_type": "markdown",
   "metadata": {},
   "source": [
    "In the first part, we attempted to minimise false positives(i.e predicting high salary when it is actually low) by setting scoring based on recall. However, we still noticed that 14 cases are still identified wrongly.\n",
    "\n",
    "Since our objective is to minimise false positives as much as possible, we manually lowered the threshold required to predict 1. This drastically drop the false positves from 14 to 1.\n",
    "\n",
    "Despite this attaining the outcome we desired, we must also note this comes at the expense of a much higher false negative rate (predicting low salary when it is actually high)"
   ]
  },
  {
   "cell_type": "code",
   "execution_count": null,
   "metadata": {},
   "outputs": [],
   "source": []
  }
 ],
 "metadata": {
  "kernelspec": {
   "display_name": "Python 2",
   "language": "python",
   "name": "python2"
  },
  "language_info": {
   "codemirror_mode": {
    "name": "ipython",
    "version": 2
   },
   "file_extension": ".py",
   "mimetype": "text/x-python",
   "name": "python",
   "nbconvert_exporter": "python",
   "pygments_lexer": "ipython2",
   "version": "2.7.14"
  }
 },
 "nbformat": 4,
 "nbformat_minor": 2
}
