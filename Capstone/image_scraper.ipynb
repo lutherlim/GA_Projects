{
 "cells": [
  {
   "cell_type": "code",
   "execution_count": 4,
   "metadata": {},
   "outputs": [
    {
     "name": "stdout",
     "output_type": "stream",
     "text": [
      "Page: 16 100 pictures succesfully downloaded to date\n",
      "Page: 17 200 pictures succesfully downloaded to date\n",
      "Page: 18 300 pictures succesfully downloaded to date\n",
      "Page: 19 400 pictures succesfully downloaded to date\n",
      "Page: 20 500 pictures succesfully downloaded to date\n",
      "Page: 21 600 pictures succesfully downloaded to date\n",
      "Page: 22 700 pictures succesfully downloaded to date\n",
      "Page: 23 800 pictures succesfully downloaded to date\n",
      "Page: 24 900 pictures succesfully downloaded to date\n",
      "Page: 25 1000 pictures succesfully downloaded to date\n"
     ]
    }
   ],
   "source": [
    "from selenium import webdriver\n",
    "from selenium.webdriver.common.keys import Keys\n",
    "from time import sleep\n",
    "import numpy as np\n",
    "from bs4 import BeautifulSoup\n",
    "import os\n",
    "import urllib2\n",
    "\n",
    "\n",
    "searchterm = 'capsicum isolated' # will also be the name of the folder\n",
    "\n",
    "# NEED TO DOWNLOAD CHROMEDRIVER, insert path to chromedriver inside parentheses in following line\n",
    "chromedriver = \"/Users/Luther/desktop/general assembly/course_materials/classes/week-06/labs/python-webscraping_opentable-lab-master/chromedriver/chromedriver\"\n",
    "os.environ[\"webdriver.chrome.driver\"] = chromedriver\n",
    "\n",
    "# driver = webdriver.Chrome(chromedriver)\n",
    "browser = webdriver.Chrome(executable_path=\"/Users/Luther/desktop/general assembly/course_materials/classes/week-06/labs/python-webscraping_opentable-lab-master/chromedriver/chromedriver\")\n",
    "\n",
    "counter = 0\n",
    "succounter = 0\n",
    "    \n",
    "for i in range(16,26):\n",
    "    url = 'https://www.shutterstock.com/search/'+searchterm+'?page={}&searchterm='.format(i)+searchterm+'&language=en'\n",
    "    browser.get(url)\n",
    "\n",
    "    html = BeautifulSoup(browser.page_source, 'lxml')\n",
    "    soup = html.find_all(name='div', attrs={'class':'img-wrap'})\n",
    "    sleep(5 + 3*np.random.uniform())\n",
    "\n",
    "    if not os.path.exists(searchterm):\n",
    "        os.mkdir(searchterm)\n",
    "\n",
    "    for j in soup:\n",
    "        try:\n",
    "            counter = counter + 1\n",
    "            raw_img = urllib2.urlopen(j.img['src']).read()\n",
    "            File = open(os.path.join(searchterm , searchterm + \"_\" + str(counter) + \".jpg\"), \"wb\")\n",
    "            File.write(raw_img)\n",
    "            File.close()\n",
    "            succounter = succounter + 1\n",
    "            sleep(0.9 + 0.2*np.random.uniform())\n",
    "\n",
    "        except:\n",
    "            print \"can't get img\"\n",
    "            sleep(0.9 + 0.2*np.random.uniform())\n",
    "\n",
    "    print \"Page:\", i, succounter, \"pictures succesfully downloaded to date\"\n",
    "    \n",
    "browser.close()"
   ]
  },
  {
   "cell_type": "code",
   "execution_count": null,
   "metadata": {},
   "outputs": [],
   "source": []
  }
 ],
 "metadata": {
  "kernelspec": {
   "display_name": "Python 3",
   "language": "python",
   "name": "python3"
  },
  "language_info": {
   "codemirror_mode": {
    "name": "ipython",
    "version": 3
   },
   "file_extension": ".py",
   "mimetype": "text/x-python",
   "name": "python",
   "nbconvert_exporter": "python",
   "pygments_lexer": "ipython3",
   "version": "3.5.5"
  }
 },
 "nbformat": 4,
 "nbformat_minor": 2
}
