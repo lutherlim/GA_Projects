{
 "cells": [
  {
   "cell_type": "code",
   "execution_count": 1,
   "metadata": {},
   "outputs": [
    {
     "name": "stderr",
     "output_type": "stream",
     "text": [
      "C:\\Users\\Luther\\Anaconda2\\envs\\Python 3.5\\lib\\site-packages\\h5py\\__init__.py:36: FutureWarning: Conversion of the second argument of issubdtype from `float` to `np.floating` is deprecated. In future, it will be treated as `np.float64 == np.dtype(float).type`.\n",
      "  from ._conv import register_converters as _register_converters\n",
      "Using TensorFlow backend.\n"
     ]
    }
   ],
   "source": [
    "from keras.preprocessing.image import ImageDataGenerator,array_to_img, img_to_array, load_img\n",
    "import numpy as np\n",
    "import matplotlib.pyplot as plt\n",
    "import os"
   ]
  },
  {
   "cell_type": "markdown",
   "metadata": {},
   "source": [
    "### Creating approximately 1,000 images of spinach to balance dataset"
   ]
  },
  {
   "cell_type": "code",
   "execution_count": 2,
   "metadata": {},
   "outputs": [],
   "source": [
    "datagen = ImageDataGenerator(rotation_range=40,\n",
    "                             width_shift_range=0.2,\n",
    "                             height_shift_range=0.2,\n",
    "                             shear_range=0.2,\n",
    "                             zoom_range=0.2,\n",
    "                             fill_mode='nearest')"
   ]
  },
  {
   "cell_type": "code",
   "execution_count": 5,
   "metadata": {},
   "outputs": [],
   "source": [
    "images_created = 0\n",
    "images_target = 1000\n",
    "dir_aug_images = './Augment/'\n",
    "dir_orig_images = './Dataset/spinach/'\n",
    "\n",
    "# Use counts for individual values, generate enough images till it hits roughly 1000\n",
    "if not os.path.exists(dir_aug_images):\n",
    "    os.makedirs(dir_aug_images)\n",
    "\n",
    "    \n",
    "for file in os.listdir(dir_orig_images):\n",
    "    img=load_img(os.path.join(dir_orig_images,file))\n",
    "    #img.save(os.path.join(dest_lab_dir,file))\n",
    "    x=img_to_array(img) \n",
    "    x=x.reshape((1,) + x.shape)\n",
    "    for batch in datagen.flow(x, batch_size=1,save_to_dir=dir_aug_images, save_format='jpg'):\n",
    "        break\n",
    "    \n",
    "    images_created += 1\n",
    "    if images_created >= 1000:\n",
    "        break"
   ]
  },
  {
   "cell_type": "code",
   "execution_count": null,
   "metadata": {},
   "outputs": [],
   "source": []
  }
 ],
 "metadata": {
  "kernelspec": {
   "display_name": "Python 3",
   "language": "python",
   "name": "python3"
  },
  "language_info": {
   "codemirror_mode": {
    "name": "ipython",
    "version": 3
   },
   "file_extension": ".py",
   "mimetype": "text/x-python",
   "name": "python",
   "nbconvert_exporter": "python",
   "pygments_lexer": "ipython3",
   "version": "3.5.5"
  }
 },
 "nbformat": 4,
 "nbformat_minor": 2
}
